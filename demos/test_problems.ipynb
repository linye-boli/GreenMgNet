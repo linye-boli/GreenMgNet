{
 "cells": [
  {
   "cell_type": "code",
   "execution_count": 1,
   "metadata": {},
   "outputs": [],
   "source": [
    "import numpy as np\n",
    "import matplotlib.pyplot as plt\n",
    "import einops\n",
    "from itertools import product"
   ]
  },
  {
   "cell_type": "markdown",
   "metadata": {},
   "source": [
    "one-dimensional problem : $G(x,y)$ asymptotially smooth\n",
    "\n",
    "$$u(x) = \\int_{\\Omega} G(x,y) e^{\\mathrm{i}k|x-y|} u(y) \\mathrm{d}y, \\quad x \\in \\Omega$$\n",
    "\n",
    "where $\\Omega \\subset [-1,1] \\times [1,-1]$\n",
    "\n",
    "$$G(x,y) = \\frac{1}{|y-x|}$$\n",
    "\n",
    "and\n",
    "\n",
    "$$u(y)=\\mathrm{sin}(ky^1)\\mathrm{sin}(ky^2), y \\in \\Omega$$"
   ]
  },
  {
   "cell_type": "code",
   "execution_count": 11,
   "metadata": {},
   "outputs": [],
   "source": [
    "n = 2**6+1\n",
    "h = 2/(n-1)\n",
    "x1h = np.linspace(-1,1,n).tolist()\n",
    "x2h = x1h\n",
    "xh = list(product(x1h, x2h))\n",
    "xhh = list(product(xh, xh))\n",
    "xhh = np.array(xhh).reshape(-1,4)"
   ]
  },
  {
   "cell_type": "code",
   "execution_count": 12,
   "metadata": {},
   "outputs": [],
   "source": [
    "xp = xhh[:,0] - xhh[:,2] + h/2\n",
    "yp = xhh[:,1] - xhh[:,3] + h/2\n",
    "xm = xhh[:,0] - xhh[:,2] - h/2\n",
    "ym = xhh[:,1] - xhh[:,3] - h/2\n",
    "Ghh = np.abs(xp) * np.arcsinh(yp/xp) + np.abs(yp) * np.arcsinh(xp/yp) - \\\n",
    "      np.abs(xm) * np.arcsinh(yp/xm) - np.abs(yp) * np.arcsinh(xm/yp) - \\\n",
    "      np.abs(xp) * np.arcsinh(ym/xp) - np.abs(ym) * np.arcsinh(xp/ym) + \\\n",
    "      np.abs(xm) * np.arcsinh(ym/xm) + np.abs(ym) * np.arcsinh(xm/ym)"
   ]
  },
  {
   "cell_type": "code",
   "execution_count": 13,
   "metadata": {},
   "outputs": [],
   "source": [
    "Ghh = Ghh.reshape(n,n,n,n)"
   ]
  },
  {
   "cell_type": "code",
   "execution_count": 19,
   "metadata": {},
   "outputs": [
    {
     "data": {
      "text/plain": [
       "<matplotlib.colorbar.Colorbar at 0x7ae3932a71f0>"
      ]
     },
     "execution_count": 19,
     "metadata": {},
     "output_type": "execute_result"
    },
    {
     "data": {
      "image/png": "[encoded data removed]",
      "text/plain": [
       "<Figure size 640x480 with 2 Axes>"
      ]
     },
     "metadata": {},
     "output_type": "display_data"
    }
   ],
   "source": [
    "plt.imshow(Ghh[32,32])\n",
    "plt.colorbar()"
   ]
  },
  {
   "cell_type": "code",
   "execution_count": 20,
   "metadata": {},
   "outputs": [
    {
     "data": {
      "text/plain": [
       "0.11017169837744288"
      ]
     },
     "execution_count": 20,
     "metadata": {},
     "output_type": "execute_result"
    }
   ],
   "source": [
    "Ghh.max()"
   ]
  },
  {
   "cell_type": "code",
   "execution_count": 21,
   "metadata": {},
   "outputs": [
    {
     "data": {
      "text/plain": [
       "0.0003452687391956033"
      ]
     },
     "execution_count": 21,
     "metadata": {},
     "output_type": "execute_result"
    }
   ],
   "source": [
    "Ghh.min()"
   ]
  },
  {
   "cell_type": "code",
   "execution_count": 17,
   "metadata": {},
   "outputs": [
    {
     "data": {
      "text/plain": [
       "(65, 65, 65, 65)"
      ]
     },
     "execution_count": 17,
     "metadata": {},
     "output_type": "execute_result"
    }
   ],
   "source": [
    "Ghh.shape"
   ]
  },
  {
   "cell_type": "code",
   "execution_count": null,
   "metadata": {},
   "outputs": [],
   "source": []
  }
 ],
 "metadata": {
  "kernelspec": {
   "display_name": "base",
   "language": "python",
   "name": "python3"
  },
  "language_info": {
   "codemirror_mode": {
    "name": "ipython",
    "version": 3
   },
   "file_extension": ".py",
   "mimetype": "text/x-python",
   "name": "python",
   "nbconvert_exporter": "python",
   "pygments_lexer": "ipython3",
   "version": "3.10.11"
  }
 },
 "nbformat": 4,
 "nbformat_minor": 2
}
