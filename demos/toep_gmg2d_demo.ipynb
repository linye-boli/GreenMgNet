{
 "cells": [
  {
   "cell_type": "code",
   "execution_count": 1,
   "metadata": {},
   "outputs": [],
   "source": [
    "import sys \n",
    "sys.path.append('../')\n",
    "\n",
    "import torch\n",
    "import matplotlib.pyplot as plt \n",
    "from einops import repeat\n",
    "\n",
    "from src.green_net import GreenNet2D\n",
    "from src.toep_gmg import Toep_GMG2D\n",
    "from src.model import MLP\n",
    "from src.utils import rl2_error\n",
    "from src.dataset import load_mat2d"
   ]
  },
  {
   "cell_type": "code",
   "execution_count": 2,
   "metadata": {},
   "outputs": [],
   "source": [
    "def Invdist2D(pts):\n",
    "    x1 = pts[...,0]\n",
    "    y1 = pts[...,1]\n",
    "    x2 = pts[...,2]\n",
    "    y2 = pts[...,3]\n",
    "\n",
    "    mask = ((x1**2+y1**2) < 1) & ((x2**2+y2**2) < 1)\n",
    "\n",
    "    k = ((x1 - x2)**2 + (y1-y2)**2) ** (-0.5)\n",
    "    k = torch.nan_to_num(k, posinf=55) * mask\n",
    "\n",
    "    return k"
   ]
  },
  {
   "cell_type": "code",
   "execution_count": 3,
   "metadata": {},
   "outputs": [],
   "source": [
    "def ToepDiskInvdist(pts):\n",
    "    x = pts[...,0]\n",
    "    y = pts[...,1]\n",
    "    mask = (x**2+y**2)**0.5 < 2\n",
    "    k = (x**2 + y**2) ** (-0.5)\n",
    "    k = torch.nan_to_num(k, posinf=55) * mask\n",
    "\n",
    "    return k"
   ]
  },
  {
   "cell_type": "code",
   "execution_count": 4,
   "metadata": {},
   "outputs": [],
   "source": [
    "def ffunc_2D(pts):\n",
    "    x = pts[:,0]\n",
    "    y = pts[:,1]\n",
    "    u = 1 - (x**2+y**2)\n",
    "    mask = (x**2+y**2)**0.5 < 1\n",
    "    u = u * mask\n",
    "    return u"
   ]
  },
  {
   "cell_type": "code",
   "execution_count": 5,
   "metadata": {},
   "outputs": [],
   "source": [
    "n = 6\n",
    "device = torch.device('cpu')\n",
    "kernel = MLP([2,50,50,50,1], nonlinearity='relu').to(device)\n",
    "model = GreenNet2D(n, kernel=Invdist2D, device=device, sub_num=5)"
   ]
  },
  {
   "cell_type": "code",
   "execution_count": 6,
   "metadata": {},
   "outputs": [],
   "source": [
    "F = ffunc_2D(model.grid.x_h)\n",
    "F = repeat(F, 'n -> b n', b=64)\n",
    "model.eval_K()\n",
    "nh = model.grid.nh\n",
    "K_full = model.K_hh.reshape(nh,nh,nh,nh)"
   ]
  },
  {
   "cell_type": "code",
   "execution_count": 7,
   "metadata": {},
   "outputs": [
    {
     "name": "stderr",
     "output_type": "stream",
     "text": [
      "/tmp/ipykernel_18274/2869187882.py:10: MatplotlibDeprecationWarning: Getting the array from a PolyQuadMesh will return the full array in the future (uncompressed). To get this behavior now set the PolyQuadMesh with a 2D array .set_array(data2d).\n",
      "  plt.colorbar()\n",
      "/tmp/ipykernel_18274/2869187882.py:15: MatplotlibDeprecationWarning: Getting the array from a PolyQuadMesh will return the full array in the future (uncompressed). To get this behavior now set the PolyQuadMesh with a 2D array .set_array(data2d).\n",
      "  plt.colorbar()\n"
     ]
    },
    {
     "data": {
      "image/png": "[encoded data removed]",
      "text/plain": [
       "<Figure size 640x480 with 4 Axes>"
      ]
     },
     "metadata": {},
     "output_type": "display_data"
    }
   ],
   "source": [
    "xy = model.grid.x_h.reshape(nh,nh,2)\n",
    "mask = (xy[...,0]**2 + xy[...,1]**2) > 1\n",
    "G_xy00 = K_full[:,:,33,33]\n",
    "G_xy00[mask] = torch.nan\n",
    "G_x0y0 = K_full[:,33,:,33]\n",
    "plt.subplot(121)\n",
    "plt.pcolor(xy[...,0], xy[...,1], G_xy00, cmap='jet')\n",
    "plt.title('$G(x,y,0,0)$')\n",
    "plt.gca().set_aspect('equal')\n",
    "plt.colorbar()\n",
    "plt.subplot(122)\n",
    "plt.pcolor(xy[...,0], xy[...,1], G_x0y0, cmap='jet')\n",
    "plt.title('$G(x,0,x\\',0)$')\n",
    "plt.gca().set_aspect('equal')\n",
    "plt.colorbar()\n",
    "plt.tight_layout()"
   ]
  },
  {
   "cell_type": "markdown",
   "metadata": {},
   "source": [
    "Full Kernel Integral"
   ]
  },
  {
   "cell_type": "code",
   "execution_count": 8,
   "metadata": {},
   "outputs": [],
   "source": [
    "F = ffunc_2D(model.grid.x_h)\n",
    "F = repeat(F, 'n -> b n', b=64)\n",
    "U_full = model.full_kint(F)"
   ]
  },
  {
   "cell_type": "markdown",
   "metadata": {},
   "source": [
    "# Toep Green Net"
   ]
  },
  {
   "cell_type": "code",
   "execution_count": 9,
   "metadata": {},
   "outputs": [
    {
     "name": "stdout",
     "output_type": "stream",
     "text": [
      "# coarest pts :  16641\n",
      "# correction :  0\n",
      "ratio 16641/16641 = 100.00% \n",
      "\n"
     ]
    }
   ],
   "source": [
    "# toep green net\n",
    "m = 0\n",
    "k = 0\n",
    "toep_gmg = Toep_GMG2D(n, m, k, ToepDiskInvdist, device)\n",
    "# toep_gmg = Toep_GMG2D(n, m, k, kernel, device)"
   ]
  },
  {
   "cell_type": "code",
   "execution_count": 10,
   "metadata": {},
   "outputs": [],
   "source": [
    "toep_gmg.eval_ml_K()\n",
    "toep_gmg.assemble_K()"
   ]
  },
  {
   "cell_type": "code",
   "execution_count": 11,
   "metadata": {},
   "outputs": [],
   "source": [
    "toep_K_h = toep_gmg.K_h.clone()\n",
    "x_h = toep_gmg.ml_grids[-1].x_h"
   ]
  },
  {
   "cell_type": "markdown",
   "metadata": {},
   "source": [
    "toeplitz kernel visualization"
   ]
  },
  {
   "cell_type": "code",
   "execution_count": 12,
   "metadata": {},
   "outputs": [
    {
     "name": "stderr",
     "output_type": "stream",
     "text": [
      "/tmp/ipykernel_18274/326700915.py:5: MatplotlibDeprecationWarning: Getting the array from a PolyQuadMesh will return the full array in the future (uncompressed). To get this behavior now set the PolyQuadMesh with a 2D array .set_array(data2d).\n",
      "  plt.colorbar()\n"
     ]
    },
    {
     "data": {
      "text/plain": [
       "<matplotlib.colorbar.Colorbar at 0x760c50f2a050>"
      ]
     },
     "execution_count": 12,
     "metadata": {},
     "output_type": "execute_result"
    },
    {
     "data": {
      "image/png": "[encoded data removed]",
      "text/plain": [
       "<Figure size 640x480 with 2 Axes>"
      ]
     },
     "metadata": {},
     "output_type": "display_data"
    }
   ],
   "source": [
    "nh = toep_gmg.ml_grids[-1].nh * 2 - 1\n",
    "mask = (x_h[...,0]**2 + x_h[...,1]**2).reshape(nh,nh)>1\n",
    "toep_K_h[mask] = torch.nan\n",
    "plt.pcolor(x_h[:,0].reshape(nh,nh), x_h[:,1].reshape(nh,nh), toep_K_h, cmap='jet')\n",
    "plt.colorbar()"
   ]
  },
  {
   "cell_type": "markdown",
   "metadata": {},
   "source": [
    "# Toep Green MG"
   ]
  },
  {
   "cell_type": "markdown",
   "metadata": {},
   "source": [
    "influence of level of coarse : `k`"
   ]
  },
  {
   "cell_type": "code",
   "execution_count": 13,
   "metadata": {},
   "outputs": [],
   "source": [
    "F = ffunc_2D(model.grid.x_h)\n",
    "F = repeat(F, 'n -> b n', b=64)\n",
    "model = GreenNet2D(n, kernel=Invdist2D, device=device, sub_num=5)\n",
    "model.eval_K()\n",
    "U_full = model.full_kint(F)"
   ]
  },
  {
   "cell_type": "code",
   "execution_count": 14,
   "metadata": {},
   "outputs": [
    {
     "name": "stdout",
     "output_type": "stream",
     "text": [
      "# coarest pts :  16641\n",
      "# correction :  0\n",
      "ratio 16641/16641 = 100.00% \n",
      "\n",
      "k 0 - 0.0000\n",
      "# coarest pts :  4225\n",
      "# correction :  1\n",
      "ratio 4226/16641 = 25.40% \n",
      "\n",
      "k 1 - 0.0072\n",
      "# coarest pts :  1089\n",
      "# correction :  2\n",
      "ratio 1091/16641 = 6.56% \n",
      "\n",
      "k 2 - 0.0844\n",
      "# coarest pts :  289\n",
      "# correction :  3\n",
      "ratio 292/16641 = 1.75% \n",
      "\n",
      "k 3 - 0.4802\n"
     ]
    }
   ],
   "source": [
    "m = 0\n",
    "\n",
    "for k in range(0, 4):\n",
    "    toep_gmg = Toep_GMG2D(n, m, k, ToepDiskInvdist, device)\n",
    "    toep_gmg.eval_ml_K()\n",
    "    toep_gmg.assemble_K()\n",
    "    U_toep = toep_gmg.fft_kint(F)\n",
    "    rl2 = rl2_error(U_toep, U_full)\n",
    "    print('k {:d} - {:.4f}'.format(k, rl2))"
   ]
  },
  {
   "cell_type": "markdown",
   "metadata": {},
   "source": [
    "influence of correction range : `c`"
   ]
  },
  {
   "cell_type": "code",
   "execution_count": 16,
   "metadata": {},
   "outputs": [
    {
     "name": "stdout",
     "output_type": "stream",
     "text": [
      "# coarest pts :  289\n",
      "# correction :  3\n",
      "ratio 292/16641 = 1.75% \n",
      "\n",
      "k 3 - m 0 - 4.8020e-01\n",
      "\n",
      "# coarest pts :  289\n",
      "# correction :  24\n",
      "ratio 313/16641 = 1.88% \n",
      "\n",
      "k 3 - m 1 - 1.4411e-02\n",
      "\n",
      "# coarest pts :  289\n",
      "# correction :  120\n",
      "ratio 409/16641 = 2.46% \n",
      "\n",
      "k 3 - m 3 - 5.2934e-03\n",
      "\n",
      "# coarest pts :  289\n",
      "# correction :  288\n",
      "ratio 577/16641 = 3.47% \n",
      "\n",
      "k 3 - m 5 - 2.4080e-03\n",
      "\n",
      "# coarest pts :  289\n",
      "# correction :  528\n",
      "ratio 817/16641 = 4.91% \n",
      "\n",
      "k 3 - m 7 - 1.2227e-03\n",
      "\n"
     ]
    },
    {
     "ename": "IndexError",
     "evalue": "index 17 is out of bounds for dimension 1 with size 17",
     "output_type": "error",
     "traceback": [
      "\u001b[0;31m---------------------------------------------------------------------------\u001b[0m",
      "\u001b[0;31mIndexError\u001b[0m                                Traceback (most recent call last)",
      "Cell \u001b[0;32mIn[16], line 4\u001b[0m\n\u001b[1;32m      1\u001b[0m k \u001b[38;5;241m=\u001b[39m \u001b[38;5;241m3\u001b[39m\n\u001b[1;32m      3\u001b[0m \u001b[38;5;28;01mfor\u001b[39;00m m \u001b[38;5;129;01min\u001b[39;00m [\u001b[38;5;241m0\u001b[39m, \u001b[38;5;241m1\u001b[39m, \u001b[38;5;241m3\u001b[39m, \u001b[38;5;241m5\u001b[39m, \u001b[38;5;241m7\u001b[39m, \u001b[38;5;241m9\u001b[39m, \u001b[38;5;241m15\u001b[39m]:\n\u001b[0;32m----> 4\u001b[0m     toep_gmg \u001b[38;5;241m=\u001b[39m \u001b[43mToep_GMG2D\u001b[49m\u001b[43m(\u001b[49m\u001b[43mn\u001b[49m\u001b[43m,\u001b[49m\u001b[43m \u001b[49m\u001b[43mm\u001b[49m\u001b[43m,\u001b[49m\u001b[43m \u001b[49m\u001b[43mk\u001b[49m\u001b[43m,\u001b[49m\u001b[43m \u001b[49m\u001b[43mToepDiskInvdist\u001b[49m\u001b[43m,\u001b[49m\u001b[43m \u001b[49m\u001b[43mdevice\u001b[49m\u001b[43m)\u001b[49m\n\u001b[1;32m      5\u001b[0m     toep_gmg\u001b[38;5;241m.\u001b[39meval_ml_K()\n\u001b[1;32m      6\u001b[0m     toep_gmg\u001b[38;5;241m.\u001b[39massemble_K()\n",
      "File \u001b[0;32m/workdir/GreenMgNet/demos/../src/toep_gmg.py:217\u001b[0m, in \u001b[0;36mToep_GMG2D.__init__\u001b[0;34m(self, n, m, k, kernel, device)\u001b[0m\n\u001b[1;32m    215\u001b[0m \u001b[38;5;28mself\u001b[39m\u001b[38;5;241m.\u001b[39mdevice \u001b[38;5;241m=\u001b[39m device\n\u001b[1;32m    216\u001b[0m \u001b[38;5;28mself\u001b[39m\u001b[38;5;241m.\u001b[39mkernel \u001b[38;5;241m=\u001b[39m kernel \n\u001b[0;32m--> 217\u001b[0m \u001b[38;5;28;43mself\u001b[39;49m\u001b[38;5;241;43m.\u001b[39;49m\u001b[43mbuild_ml_grids\u001b[49m\u001b[43m(\u001b[49m\u001b[43m)\u001b[49m\n\u001b[1;32m    218\u001b[0m \u001b[38;5;28mself\u001b[39m\u001b[38;5;241m.\u001b[39mfetch_eval_pts()\n",
      "File \u001b[0;32m/workdir/GreenMgNet/demos/../src/toep_gmg.py:227\u001b[0m, in \u001b[0;36mToep_GMG2D.build_ml_grids\u001b[0;34m(self)\u001b[0m\n\u001b[1;32m    225\u001b[0m \u001b[38;5;28;01mfor\u001b[39;00m l \u001b[38;5;129;01min\u001b[39;00m \u001b[38;5;28mrange\u001b[39m(\u001b[38;5;28mself\u001b[39m\u001b[38;5;241m.\u001b[39mk\u001b[38;5;241m+\u001b[39m\u001b[38;5;241m1\u001b[39m):\n\u001b[1;32m    226\u001b[0m     nh \u001b[38;5;241m=\u001b[39m \u001b[38;5;241m2\u001b[39m\u001b[38;5;241m*\u001b[39m\u001b[38;5;241m*\u001b[39m(\u001b[38;5;28mself\u001b[39m\u001b[38;5;241m.\u001b[39mn\u001b[38;5;241m-\u001b[39ml)\u001b[38;5;241m+\u001b[39m\u001b[38;5;241m1\u001b[39m\n\u001b[0;32m--> 227\u001b[0m     ml_grids\u001b[38;5;241m.\u001b[39mappend(\u001b[43mToep_Grid2D\u001b[49m\u001b[43m(\u001b[49m\u001b[43mnh\u001b[49m\u001b[43m,\u001b[49m\u001b[43m \u001b[49m\u001b[38;5;28;43mself\u001b[39;49m\u001b[38;5;241;43m.\u001b[39;49m\u001b[43mm\u001b[49m\u001b[43m,\u001b[49m\u001b[43m \u001b[49m\u001b[38;5;28;43mself\u001b[39;49m\u001b[38;5;241;43m.\u001b[39;49m\u001b[43mdevice\u001b[49m\u001b[43m)\u001b[49m)\n\u001b[1;32m    229\u001b[0m     \u001b[38;5;28;01mif\u001b[39;00m l \u001b[38;5;241m==\u001b[39m \u001b[38;5;241m0\u001b[39m:\n\u001b[1;32m    230\u001b[0m         nfinest \u001b[38;5;241m=\u001b[39m nh\n",
      "File \u001b[0;32m/workdir/GreenMgNet/demos/../src/toep_gmg.py:166\u001b[0m, in \u001b[0;36mToep_Grid2D.__init__\u001b[0;34m(self, nh, m, device)\u001b[0m\n\u001b[1;32m    164\u001b[0m \u001b[38;5;28mself\u001b[39m\u001b[38;5;241m.\u001b[39mdevice \u001b[38;5;241m=\u001b[39m device\n\u001b[1;32m    165\u001b[0m \u001b[38;5;28mself\u001b[39m\u001b[38;5;241m.\u001b[39minit_grid_h()\n\u001b[0;32m--> 166\u001b[0m \u001b[38;5;28;43mself\u001b[39;49m\u001b[38;5;241;43m.\u001b[39;49m\u001b[43mfetch_nbrs\u001b[49m\u001b[43m(\u001b[49m\u001b[43m)\u001b[49m\n",
      "File \u001b[0;32m/workdir/GreenMgNet/demos/../src/toep_gmg.py:196\u001b[0m, in \u001b[0;36mToep_Grid2D.fetch_nbrs\u001b[0;34m(self)\u001b[0m\n\u001b[1;32m    193\u001b[0m idx_local_odd \u001b[38;5;241m=\u001b[39m torch\u001b[38;5;241m.\u001b[39mcartesian_prod(idx_local_odd_rows, idx_local_odd_cols)\n\u001b[1;32m    195\u001b[0m xh \u001b[38;5;241m=\u001b[39m \u001b[38;5;28mself\u001b[39m\u001b[38;5;241m.\u001b[39mx_h\u001b[38;5;241m.\u001b[39mreshape(nh, nh, \u001b[38;5;241m2\u001b[39m)\n\u001b[0;32m--> 196\u001b[0m x_local_even \u001b[38;5;241m=\u001b[39m \u001b[43mxh\u001b[49m\u001b[43m[\u001b[49m\u001b[43midx_local_even\u001b[49m\u001b[43m[\u001b[49m\u001b[43m:\u001b[49m\u001b[43m,\u001b[49m\u001b[38;5;241;43m0\u001b[39;49m\u001b[43m]\u001b[49m\u001b[43m,\u001b[49m\u001b[43m \u001b[49m\u001b[43midx_local_even\u001b[49m\u001b[43m[\u001b[49m\u001b[43m:\u001b[49m\u001b[43m,\u001b[49m\u001b[38;5;241;43m1\u001b[39;49m\u001b[43m]\u001b[49m\u001b[43m]\u001b[49m\n\u001b[1;32m    197\u001b[0m x_local_odd \u001b[38;5;241m=\u001b[39m xh[idx_local_odd[:,\u001b[38;5;241m0\u001b[39m], idx_local_odd[:,\u001b[38;5;241m1\u001b[39m]]\n\u001b[1;32m    199\u001b[0m \u001b[38;5;28mself\u001b[39m\u001b[38;5;241m.\u001b[39mx_local_even \u001b[38;5;241m=\u001b[39m x_local_even \n",
      "\u001b[0;31mIndexError\u001b[0m: index 17 is out of bounds for dimension 1 with size 17"
     ]
    }
   ],
   "source": [
    "k = 3\n",
    "\n",
    "for m in [0, 1, 3, 5, 7, 9, 15]:\n",
    "    toep_gmg = Toep_GMG2D(n, m, k, ToepDiskInvdist, device)\n",
    "    toep_gmg.eval_ml_K()\n",
    "    toep_gmg.assemble_K()\n",
    "    U_toep = toep_gmg.fft_kint(F)\n",
    "    rl2 = rl2_error(U_toep, U_full)\n",
    "\n",
    "    print('k {:d} - m {:d} - {:.4e}\\n'.format(k, m, rl2))"
   ]
  },
  {
   "cell_type": "code",
   "execution_count": null,
   "metadata": {},
   "outputs": [],
   "source": []
  }
 ],
 "metadata": {
  "kernelspec": {
   "display_name": "base",
   "language": "python",
   "name": "python3"
  },
  "language_info": {
   "codemirror_mode": {
    "name": "ipython",
    "version": 3
   },
   "file_extension": ".py",
   "mimetype": "text/x-python",
   "name": "python",
   "nbconvert_exporter": "python",
   "pygments_lexer": "ipython3",
   "version": "3.10.11"
  }
 },
 "nbformat": 4,
 "nbformat_minor": 2
}
