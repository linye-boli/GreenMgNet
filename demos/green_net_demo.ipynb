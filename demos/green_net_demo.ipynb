{
 "cells": [
  {
   "cell_type": "code",
   "execution_count": 1,
   "metadata": {},
   "outputs": [],
   "source": [
    "import sys \n",
    "sys.path.append('../')\n",
    "\n",
    "import torch\n",
    "import matplotlib.pyplot as plt \n",
    "from einops import repeat\n",
    "\n",
    "from src.toep_gmg import Toep_GMG1D\n",
    "from src.green_net import GreenNet1D\n",
    "from src.model import MLP\n",
    "from src.utils import rl2_error\n",
    "from src.dataset import load_dataset_1d"
   ]
  },
  {
   "cell_type": "code",
   "execution_count": 2,
   "metadata": {},
   "outputs": [],
   "source": [
    "def Poisson(pts):\n",
    "    x = (pts[...,0]+1)/2\n",
    "    y = (pts[...,1]+1)/2\n",
    "    return (x+y - (x-y).abs())/2 - x*y"
   ]
  },
  {
   "cell_type": "code",
   "execution_count": 3,
   "metadata": {},
   "outputs": [],
   "source": [
    "def Cosine(pts):\n",
    "    x = pts[...,0]\n",
    "    y = pts[...,1]\n",
    "    return torch.cos(torch.pi/2 * (x-y).abs())"
   ]
  },
  {
   "cell_type": "code",
   "execution_count": 4,
   "metadata": {},
   "outputs": [],
   "source": [
    "def Logarithm(pts):\n",
    "    x = pts[...,0]\n",
    "    y = pts[...,1]\n",
    "\n",
    "    return torch.nan_to_num(torch.log((x-y).abs()), neginf=-8)"
   ]
  },
  {
   "cell_type": "code",
   "execution_count": 5,
   "metadata": {},
   "outputs": [],
   "source": [
    "def Expdecay(pts):\n",
    "    x = pts[...,0]\n",
    "    y = pts[...,1]\n",
    "    r1 = ((x-0.5)**2 + (y-0.5)**2)**0.5\n",
    "    r2 = ((x+0.5)**2 + (y+0.5)**2)**0.5\n",
    "    return torch.exp(-r1/0.05) + torch.exp(-r2/0.05)"
   ]
  },
  {
   "cell_type": "code",
   "execution_count": 6,
   "metadata": {},
   "outputs": [],
   "source": [
    "def DoubleHoles(pts):\n",
    "    x = pts[...,0]\n",
    "    y = pts[...,1]\n",
    "    r1 = ((x-0.1)**2 + (y-0.1)**2)**0.5\n",
    "    r2 = ((x+0.1)**2 + (y+0.1)**2)**0.5\n",
    "    return torch.nan_to_num(torch.log(r1), neginf=-8) - torch.nan_to_num(torch.log(r2), neginf=-8)"
   ]
  },
  {
   "cell_type": "code",
   "execution_count": 40,
   "metadata": {},
   "outputs": [],
   "source": [
    "device = torch.device('cpu')\n",
    "model = GreenNet1D(n=12, kernel=Expdecay, device=device, sub_num=5)\n",
    "# model = GreenNet1D(n=12, kernel=Expdecay, device=device, sub_num=5)\n",
    "# model = GreenNet1D(n=12, kernel=Poisson, device=device, sub_num=5)\n",
    "# model = GreenNet1D(n=12, kernel=DoubleHoles, device=device, sub_num=5)\n"
   ]
  },
  {
   "cell_type": "code",
   "execution_count": 41,
   "metadata": {},
   "outputs": [],
   "source": [
    "data_root = '/workdir/GreenMgNet/dataset'\n",
    "train_loader, test_loader = load_dataset_1d('logarithm', data_root, 0, bsz=100)\n",
    "F, U_ref = next(iter(train_loader))\n",
    "U_ref = torch.squeeze(U_ref).T\n",
    "F = torch.squeeze(F).T"
   ]
  },
  {
   "cell_type": "code",
   "execution_count": 42,
   "metadata": {},
   "outputs": [],
   "source": [
    "# F = torch.squeeze(1 - model.grid.x_h**2)\n",
    "# F = repeat(F, 'n -> n b', b=64)"
   ]
  },
  {
   "cell_type": "markdown",
   "metadata": {},
   "source": [
    "Evaluation Points Position"
   ]
  },
  {
   "cell_type": "code",
   "execution_count": 43,
   "metadata": {},
   "outputs": [],
   "source": [
    "# plt.scatter(model.pts[:,0], model.pts[:,1])\n",
    "# plt.gca().set_aspect('equal')\n",
    "# print(model.pts.shape)"
   ]
  },
  {
   "cell_type": "markdown",
   "metadata": {},
   "source": [
    "Ground Truth Kernel Function"
   ]
  },
  {
   "cell_type": "code",
   "execution_count": 44,
   "metadata": {},
   "outputs": [],
   "source": [
    "model.eval_K()\n",
    "K_full = model.K_hh\n",
    "# plt.scatter(model.pts[:,0], model.pts[:,1], c=K_full)\n",
    "# plt.gca().set_aspect('equal')\n",
    "# plt.colorbar()"
   ]
  },
  {
   "cell_type": "code",
   "execution_count": 45,
   "metadata": {},
   "outputs": [
    {
     "data": {
      "text/plain": [
       "tensor([-8.0000, -7.6246, -6.9315,  ...,  0.6927,  0.6929,  0.6931])"
      ]
     },
     "execution_count": 45,
     "metadata": {},
     "output_type": "execute_result"
    }
   ],
   "source": [
    "K_full.reshape(4097,4097)[0]"
   ]
  },
  {
   "cell_type": "markdown",
   "metadata": {},
   "source": [
    "Full Kernel Integral "
   ]
  },
  {
   "cell_type": "code",
   "execution_count": 46,
   "metadata": {},
   "outputs": [
    {
     "name": "stdout",
     "output_type": "stream",
     "text": [
      "torch.Size([4097, 100])\n"
     ]
    }
   ],
   "source": [
    "U_full = model.full_kint(F)\n",
    "print(U_full.shape)"
   ]
  },
  {
   "cell_type": "code",
   "execution_count": 47,
   "metadata": {},
   "outputs": [
    {
     "data": {
      "text/plain": [
       "tensor(4.6378e-09)"
      ]
     },
     "execution_count": 47,
     "metadata": {},
     "output_type": "execute_result"
    }
   ],
   "source": [
    "rl2_error(U_full.T, U_ref.T)"
   ]
  },
  {
   "cell_type": "code",
   "execution_count": 48,
   "metadata": {},
   "outputs": [
    {
     "data": {
      "text/plain": [
       "Text(0.5, 1.0, 'output function U')"
      ]
     },
     "execution_count": 48,
     "metadata": {},
     "output_type": "execute_result"
    },
    {
     "data": {
      "image/png": "[encoded data removed]",
      "text/plain": [
       "<Figure size 640x480 with 2 Axes>"
      ]
     },
     "metadata": {},
     "output_type": "display_data"
    }
   ],
   "source": [
    "plt.subplot(121)\n",
    "plt.plot(model.grid.x_h, F[:,0], '-r')\n",
    "plt.title('input function F')\n",
    "plt.subplot(122)\n",
    "plt.plot(model.grid.x_h, U_full[:,0], '-b')\n",
    "plt.title('output function U')"
   ]
  },
  {
   "cell_type": "markdown",
   "metadata": {},
   "source": [
    "# Test Eval Batch"
   ]
  },
  {
   "cell_type": "code",
   "execution_count": 9,
   "metadata": {},
   "outputs": [
    {
     "name": "stdout",
     "output_type": "stream",
     "text": [
      "random sub :  tensor([32, 22, 11, 22, 12])\n"
     ]
    }
   ],
   "source": [
    "model.rand_sub()\n",
    "print('random sub : ', model.sub)\n",
    "model.eval_K_sub()\n",
    "U_sub = model.sub_kint(F)"
   ]
  },
  {
   "cell_type": "code",
   "execution_count": 10,
   "metadata": {},
   "outputs": [
    {
     "name": "stdout",
     "output_type": "stream",
     "text": [
      "tensor(3.2345e-08)\n"
     ]
    },
    {
     "data": {
      "image/png": "[encoded data removed]",
      "text/plain": [
       "<Figure size 640x480 with 1 Axes>"
      ]
     },
     "metadata": {},
     "output_type": "display_data"
    }
   ],
   "source": [
    "plt.plot(model.grid.x_h, U_full[:,0], '-b')\n",
    "plt.scatter(model.grid.x_h[model.sub], U_sub[:,0], color='red')\n",
    "plt.title('output function U')\n",
    "print(rl2_error(U_sub, U_full[model.sub]))"
   ]
  },
  {
   "cell_type": "markdown",
   "metadata": {},
   "source": [
    "# Test Batch Kint"
   ]
  },
  {
   "cell_type": "code",
   "execution_count": 11,
   "metadata": {},
   "outputs": [],
   "source": [
    "model.eval_K_batch(bsz=5)"
   ]
  },
  {
   "cell_type": "code",
   "execution_count": 12,
   "metadata": {},
   "outputs": [
    {
     "name": "stdout",
     "output_type": "stream",
     "text": [
      "K rl2 :  tensor(0.)\n",
      "U rl2 :  tensor(0.)\n"
     ]
    }
   ],
   "source": [
    "K_batch = model.K_hh\n",
    "U_batch = model.batch_kint(F)\n",
    "print('K rl2 : ' , rl2_error(K_batch, K_full))\n",
    "print('U rl2 : ' , rl2_error(U_batch, U_full))"
   ]
  }
 ],
 "metadata": {
  "kernelspec": {
   "display_name": "base",
   "language": "python",
   "name": "python3"
  },
  "language_info": {
   "codemirror_mode": {
    "name": "ipython",
    "version": 3
   },
   "file_extension": ".py",
   "mimetype": "text/x-python",
   "name": "python",
   "nbconvert_exporter": "python",
   "pygments_lexer": "ipython3",
   "version": "3.10.11"
  }
 },
 "nbformat": 4,
 "nbformat_minor": 2
}
