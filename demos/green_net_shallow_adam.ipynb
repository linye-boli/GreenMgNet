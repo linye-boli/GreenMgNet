{
 "cells": [
  {
   "cell_type": "code",
   "execution_count": 1,
   "metadata": {},
   "outputs": [],
   "source": [
    "import sys \n",
    "sys.path.append('../')\n",
    "\n",
    "import torch \n",
    "import torch.nn as nn \n",
    "import numpy as np\n",
    "import matplotlib.pyplot as plt\n",
    "\n",
    "from src.dataset import load_mat1d\n",
    "from src.ops import grid2d_coords\n",
    "from src.green_net import Grid1D"
   ]
  },
  {
   "cell_type": "code",
   "execution_count": 2,
   "metadata": {},
   "outputs": [],
   "source": [
    "torch.cuda.empty_cache()\n",
    "torch.set_default_dtype(torch.float32)\n",
    "device = 'cuda' if torch.cuda.is_available() else 'cpu'"
   ]
  },
  {
   "cell_type": "code",
   "execution_count": 3,
   "metadata": {},
   "outputs": [],
   "source": [
    "class Shallow(nn.Module):\n",
    "    def __init__(self, in_dim , h_dim , out_dim):\n",
    "        super().__init__()\n",
    "        self.ln1 = nn.Linear( in_dim , h_dim )\n",
    "        self.act1 =nn.Sigmoid()\n",
    "        self.ln2 = nn.Linear( h_dim , out_dim , bias=False )\n",
    "        \n",
    "    def forward(self, x):\n",
    "        out = self.ln1(x)\n",
    "        out = self.act1(out)\n",
    "        out = self.ln2(out)\n",
    "        return out\n",
    "\n",
    "def count_parameters(model, requires_grad = True):\n",
    "    \"\"\"Count trainable parameters for a nn.Module.\"\"\"\n",
    "    if requires_grad:\n",
    "        return sum(p.numel() for p in model.parameters() if p.requires_grad)\n",
    "    return sum(p.numel() for p in model.parameters())"
   ]
  },
  {
   "cell_type": "code",
   "execution_count": 4,
   "metadata": {},
   "outputs": [],
   "source": [
    "def loss(model, grid, F, U):\n",
    "    nh = grid.nh\n",
    "    h = grid.nh\n",
    "    G = model(grid.x_hh).reshape(nh, nh)\n",
    "    U_pred = h*G @ F\n",
    "    loss = torch.mean((U-U_pred)**2)\n",
    "    return loss"
   ]
  },
  {
   "cell_type": "code",
   "execution_count": 5,
   "metadata": {},
   "outputs": [],
   "source": [
    "F_train = load_mat1d('../dataset/f1d_513_3.00e-02.mat', 'F', 100, True)\n",
    "U_train = load_mat1d('../dataset/logarithm_513_3.00e-02.mat', 'U', 100, True)\n",
    "F_val = load_mat1d('../dataset/f1d_513_3.00e-02.mat', 'F', 100, False)\n",
    "U_val = load_mat1d('../dataset/logarithm_513_3.00e-02.mat', 'U', 100, False)\n",
    "\n",
    "F_train = torch.from_numpy(F_train).float().to(device)\n",
    "U_train = torch.from_numpy(U_train).float().to(device)\n",
    "F_val = torch.from_numpy(F_val).float().to(device)\n",
    "U_val = torch.from_numpy(U_val).float().to(device)\n",
    "\n",
    "grid = Grid1D(513, device)\n",
    "grid.init_grid_hh()"
   ]
  },
  {
   "cell_type": "code",
   "execution_count": 6,
   "metadata": {},
   "outputs": [],
   "source": [
    "model = Shallow(2, 50, 1).to(device)"
   ]
  },
  {
   "cell_type": "code",
   "execution_count": 7,
   "metadata": {},
   "outputs": [],
   "source": [
    "Adam_iter = 100000 # stop when iter > Adam_iter\n",
    "update_lr_1 = 30000  # change adam lr from 0.01 to 0.001 at update_lr_1 iteration\n",
    "update_lr_2 = 50000  # change adam lr from 0.001 to 0.0001 at update_lr_2 iteration\n",
    "\n",
    "optimizerAdam = torch.optim.Adam(\n",
    "    model.parameters(), \n",
    "    lr=0.01\n",
    ")"
   ]
  },
  {
   "cell_type": "code",
   "execution_count": 8,
   "metadata": {},
   "outputs": [],
   "source": [
    "itera = 0\n",
    "\n",
    "savedloss = []\n",
    "savedloss_valid = []"
   ]
  },
  {
   "cell_type": "code",
   "execution_count": 9,
   "metadata": {},
   "outputs": [
    {
     "name": "stdout",
     "output_type": "stream",
     "text": [
      "Iter 0, LossAdam: 3.32227e+08\n",
      "Iter 5000, LossAdam: 4.42911e+04\n",
      "Iter 10000, LossAdam: 4.76011e+00\n",
      "Iter 15000, LossAdam: 4.84235e+00\n",
      "Iter 20000, LossAdam: 5.88436e+00\n",
      "Iter 25000, LossAdam: 2.95433e+01\n",
      "change learning rate to 0.001\n",
      "Iter 30000, LossAdam: 3.39137e+00\n",
      "Iter 35000, LossAdam: 6.51565e-01\n",
      "Iter 40000, LossAdam: 1.73318e+00\n",
      "Iter 45000, LossAdam: 3.75837e-01\n",
      "change learning rate to 0.0001\n",
      "Iter 50000, LossAdam: 1.55019e-01\n",
      "Iter 55000, LossAdam: 1.50719e-01\n",
      "Iter 60000, LossAdam: 1.58780e-01\n",
      "Iter 65000, LossAdam: 5.44581e-01\n",
      "Iter 70000, LossAdam: 2.34803e+00\n",
      "Iter 75000, LossAdam: 1.47817e-01\n",
      "Iter 80000, LossAdam: 1.19258e+00\n",
      "Iter 85000, LossAdam: 1.47096e-01\n",
      "Iter 90000, LossAdam: 1.46994e-01\n",
      "Iter 95000, LossAdam: 1.46290e-01\n",
      "Iter 100000, LossAdam: 1.45894e-01\n"
     ]
    }
   ],
   "source": [
    "model.train()\n",
    "for step in range(Adam_iter+1):\n",
    "    if step == update_lr_1:\n",
    "        print('change learning rate to 0.001')\n",
    "        for g in optimizerAdam.param_groups:\n",
    "            g['lr'] = 0.001\n",
    "    if step == update_lr_2:\n",
    "        print('change learning rate to 0.0001')\n",
    "        for g in optimizerAdam.param_groups:\n",
    "            g['lr'] = 0.0001\n",
    "              \n",
    "    # Backward and optimize\n",
    "    optimizerAdam.zero_grad()\n",
    "\n",
    "    lossAdam = loss(model, grid, F_train, U_train)\n",
    "    lossAdam_valid = loss(model, grid, F_val, U_val)\n",
    "    \n",
    "    if step % 5000 == 0:\n",
    "        print('Iter %d, LossAdam: %.5e' % (itera, lossAdam.item()))\n",
    "\n",
    "    savedloss.append(lossAdam.item())\n",
    "    savedloss_valid.append(lossAdam_valid.item())\n",
    "    lossAdam.backward(retain_graph = True)\n",
    "        \n",
    "    if step == Adam_iter:\n",
    "        break\n",
    "\n",
    "    optimizerAdam.step()\n",
    "    itera += 1"
   ]
  },
  {
   "cell_type": "code",
   "execution_count": 11,
   "metadata": {},
   "outputs": [
    {
     "data": {
      "image/png": "[encoded data removed]",
      "text/plain": [
       "<Figure size 1000x1000 with 1 Axes>"
      ]
     },
     "metadata": {},
     "output_type": "display_data"
    }
   ],
   "source": [
    "start = 0\n",
    "end = itera\n",
    "idx = list(range(start, end, 1))\n",
    "\n",
    "fig = plt.figure(figsize= (10, 10))\n",
    "plt.ylim(10**(-13), 10**(2))\n",
    "plt.yscale(\"log\")\n",
    "plt.xscale(\"log\")\n",
    "plt.plot(idx, savedloss[start:end], label = \"loss\")\n",
    "plt.plot(idx, savedloss_valid[start:end], label = \"loss_valid\")\n",
    "plt.legend()\n",
    "plt.show()"
   ]
  },
  {
   "cell_type": "code",
   "execution_count": null,
   "metadata": {},
   "outputs": [],
   "source": []
  }
 ],
 "metadata": {
  "kernelspec": {
   "display_name": "base",
   "language": "python",
   "name": "python3"
  },
  "language_info": {
   "codemirror_mode": {
    "name": "ipython",
    "version": 3
   },
   "file_extension": ".py",
   "mimetype": "text/x-python",
   "name": "python",
   "nbconvert_exporter": "python",
   "pygments_lexer": "ipython3",
   "version": "3.10.11"
  }
 },
 "nbformat": 4,
 "nbformat_minor": 2
}
