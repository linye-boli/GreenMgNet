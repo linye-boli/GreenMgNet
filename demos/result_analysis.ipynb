{
 "cells": [
  {
   "cell_type": "code",
   "execution_count": 1,
   "metadata": {},
   "outputs": [],
   "source": [
    "import sys \n",
    "sys.path.append('../')\n",
    "import torch\n",
    "import matplotlib.pyplot as plt\n",
    "from mpl_toolkits.axes_grid1.inset_locator import zoomed_inset_axes\n",
    "from mpl_toolkits.axes_grid1.inset_locator import mark_inset\n",
    "import numpy as np\n",
    "import torch.nn.functional as F\n",
    "import scipy\n",
    "import pandas as pd\n",
    "import glob\n",
    "import scienceplots\n",
    "plt.style.use('science')\n",
    "# import seaborn as sns"
   ]
  },
  {
   "cell_type": "code",
   "execution_count": 2,
   "metadata": {},
   "outputs": [],
   "source": [
    "exp_hists = sorted(glob.glob('../results/*/*/hist.csv'))\n",
    "# exp_kernels = glob.glob('../results/*/*/approx_kernel.npy')"
   ]
  },
  {
   "cell_type": "code",
   "execution_count": 3,
   "metadata": {},
   "outputs": [],
   "source": [
    "test_rl2_dict = {}\n",
    "task_nm_lst = []\n",
    "method_nm_lst = []\n",
    "seed_lst = []\n",
    "rl2_lst = []\n",
    "k_lst = []\n",
    "m_lst = []\n",
    "r_lst = []\n",
    "h_lst = []\n",
    "act_lst = []\n",
    "train_lst = []\n",
    "\n",
    "for exp_hist in exp_hists:\n",
    "    hist_df = pd.read_csv(exp_hist)\n",
    "    task_nm = exp_hist.split('/')[2]\n",
    "\n",
    "    if 'DD_GMGN1D' in exp_hist:\n",
    "        method_nm, act, res, h, k, m, seed = exp_hist.split('/')[3].split('-')[:-4]\n",
    "    elif 'Toep_GMGN1D' in exp_hist:\n",
    "        method_nm, act, res, h, k, m, seed = exp_hist.split('/')[3].split('-')[:-4]\n",
    "    elif 'GN1D' in exp_hist:\n",
    "        method_nm, act, res, h, seed = exp_hist.split('/')[3].split('-')[:-4]\n",
    "        k, m = 0, 0\n",
    "    \n",
    "    k, m, h = int(k), int(m), int(h)  \n",
    "\n",
    "    # if int(seed) < 5:\n",
    "\n",
    "    task_nm_lst.append(task_nm)\n",
    "    method_nm_lst.append(method_nm)\n",
    "    seed_lst.append(seed)\n",
    "    rl2_lst.append(hist_df.test_rl2.iloc[-1])\n",
    "    k_lst.append(k)\n",
    "    m_lst.append(m)\n",
    "    h_lst.append(h)\n",
    "    r_lst.append(res)\n",
    "    act_lst.append(act)\n",
    "    train_lst.append(hist_df.train_rl2)\n",
    "\n",
    "test_rl2_dict = {\n",
    "    'rl2' : rl2_lst, \n",
    "    'task' : task_nm_lst,\n",
    "    'method' : method_nm_lst,\n",
    "    'seed' : seed_lst,\n",
    "    'act' : act_lst,\n",
    "    'train' : train_lst,\n",
    "    'r' : r_lst,\n",
    "    'k' : k_lst,\n",
    "    'm' : m_lst,\n",
    "    'h' : h_lst,\n",
    "}\n",
    "\n",
    "test_rl2_df = pd.DataFrame(test_rl2_dict)"
   ]
  },
  {
   "cell_type": "code",
   "execution_count": 4,
   "metadata": {},
   "outputs": [
    {
     "name": "stdout",
     "output_type": "stream",
     "text": [
      "../results/cosine/DD_GMGN1D-rational-513-64-1-1-0-3.00e-01-3.00e-01/hist.csv\n"
     ]
    },
    {
     "data": {
      "image/png": "[encoded data removed]",
      "text/plain": [
       "<Figure size 350x262.5 with 1 Axes>"
      ]
     },
     "metadata": {},
     "output_type": "display_data"
    }
   ],
   "source": [
    "idx = 1\n",
    "hist_df = pd.read_csv(exp_hists[idx])\n",
    "\n",
    "with plt.style.context('science'):\n",
    "    plt.plot(hist_df.train_rl2)\n",
    "    plt.yscale('log')\n",
    "print(exp_hists[idx])"
   ]
  },
  {
   "cell_type": "code",
   "execution_count": 6,
   "metadata": {},
   "outputs": [],
   "source": [
    "plt.plot(np.stack(test_rl2_df[(test_rl2_df.task == 'logarithm') & (test_rl2_df.method == 'GN1D') ].train.values).T.mean(axis=1))\n",
    "plt.yscale('log')"
   ]
  },
  {
   "cell_type": "code",
   "execution_count": 6,
   "metadata": {},
   "outputs": [
    {
     "data": {
      "text/html": [
       "<div>\n",
       "<style scoped>\n",
       "    .dataframe tbody tr th:only-of-type {\n",
       "        vertical-align: middle;\n",
       "    }\n",
       "\n",
       "    .dataframe tbody tr th {\n",
       "        vertical-align: top;\n",
       "    }\n",
       "\n",
       "    .dataframe thead th {\n",
       "        text-align: right;\n",
       "    }\n",
       "</style>\n",
       "<table border=\"1\" class=\"dataframe\">\n",
       "  <thead>\n",
       "    <tr style=\"text-align: right;\">\n",
       "      <th></th>\n",
       "      <th></th>\n",
       "      <th></th>\n",
       "      <th></th>\n",
       "      <th></th>\n",
       "      <th></th>\n",
       "      <th></th>\n",
       "      <th>rl2</th>\n",
       "      <th>seed</th>\n",
       "    </tr>\n",
       "    <tr>\n",
       "      <th>task</th>\n",
       "      <th>act</th>\n",
       "      <th>method</th>\n",
       "      <th>r</th>\n",
       "      <th>k</th>\n",
       "      <th>m</th>\n",
       "      <th>h</th>\n",
       "      <th></th>\n",
       "      <th></th>\n",
       "    </tr>\n",
       "  </thead>\n",
       "  <tbody>\n",
       "    <tr>\n",
       "      <th>logarithm</th>\n",
       "      <th>rational</th>\n",
       "      <th>GN1D</th>\n",
       "      <th>513</th>\n",
       "      <th>0</th>\n",
       "      <th>0</th>\n",
       "      <th>64</th>\n",
       "      <td>0.004476</td>\n",
       "      <td>6</td>\n",
       "    </tr>\n",
       "  </tbody>\n",
       "</table>\n",
       "</div>"
      ],
      "text/plain": [
       "                                           rl2  seed\n",
       "task      act      method r   k m h                 \n",
       "logarithm rational GN1D   513 0 0 64  0.004476     6"
      ]
     },
     "execution_count": 6,
     "metadata": {},
     "output_type": "execute_result"
    }
   ],
   "source": [
    "test_rl2_df[(test_rl2_df.task == 'logarithm') & (test_rl2_df.method == 'GN1D') ].groupby(['task', 'act', 'method', 'r', 'k', 'm', 'h']).agg({'rl2':'mean', 'seed':'count'})"
   ]
  },
  {
   "cell_type": "code",
   "execution_count": 7,
   "metadata": {},
   "outputs": [
    {
     "data": {
      "text/html": [
       "<div>\n",
       "<style scoped>\n",
       "    .dataframe tbody tr th:only-of-type {\n",
       "        vertical-align: middle;\n",
       "    }\n",
       "\n",
       "    .dataframe tbody tr th {\n",
       "        vertical-align: top;\n",
       "    }\n",
       "\n",
       "    .dataframe thead th {\n",
       "        text-align: right;\n",
       "    }\n",
       "</style>\n",
       "<table border=\"1\" class=\"dataframe\">\n",
       "  <thead>\n",
       "    <tr style=\"text-align: right;\">\n",
       "      <th></th>\n",
       "      <th></th>\n",
       "      <th></th>\n",
       "      <th></th>\n",
       "      <th></th>\n",
       "      <th></th>\n",
       "      <th></th>\n",
       "      <th>rl2</th>\n",
       "      <th>seed</th>\n",
       "    </tr>\n",
       "    <tr>\n",
       "      <th>task</th>\n",
       "      <th>act</th>\n",
       "      <th>method</th>\n",
       "      <th>r</th>\n",
       "      <th>k</th>\n",
       "      <th>m</th>\n",
       "      <th>h</th>\n",
       "      <th></th>\n",
       "      <th></th>\n",
       "    </tr>\n",
       "  </thead>\n",
       "  <tbody>\n",
       "    <tr>\n",
       "      <th rowspan=\"27\" valign=\"top\">logarithm</th>\n",
       "      <th rowspan=\"27\" valign=\"top\">rational</th>\n",
       "      <th rowspan=\"27\" valign=\"top\">DD_GMGN1D</th>\n",
       "      <th rowspan=\"27\" valign=\"top\">513</th>\n",
       "      <th rowspan=\"6\" valign=\"top\">1</th>\n",
       "      <th>0</th>\n",
       "      <th>64</th>\n",
       "      <td>0.001817</td>\n",
       "      <td>1</td>\n",
       "    </tr>\n",
       "    <tr>\n",
       "      <th>1</th>\n",
       "      <th>64</th>\n",
       "      <td>0.004066</td>\n",
       "      <td>1</td>\n",
       "    </tr>\n",
       "    <tr>\n",
       "      <th>3</th>\n",
       "      <th>64</th>\n",
       "      <td>0.003468</td>\n",
       "      <td>1</td>\n",
       "    </tr>\n",
       "    <tr>\n",
       "      <th>7</th>\n",
       "      <th>64</th>\n",
       "      <td>0.005276</td>\n",
       "      <td>2</td>\n",
       "    </tr>\n",
       "    <tr>\n",
       "      <th>15</th>\n",
       "      <th>64</th>\n",
       "      <td>0.004202</td>\n",
       "      <td>3</td>\n",
       "    </tr>\n",
       "    <tr>\n",
       "      <th>31</th>\n",
       "      <th>64</th>\n",
       "      <td>0.003823</td>\n",
       "      <td>3</td>\n",
       "    </tr>\n",
       "    <tr>\n",
       "      <th rowspan=\"7\" valign=\"top\">3</th>\n",
       "      <th>0</th>\n",
       "      <th>64</th>\n",
       "      <td>0.003782</td>\n",
       "      <td>3</td>\n",
       "    </tr>\n",
       "    <tr>\n",
       "      <th>1</th>\n",
       "      <th>64</th>\n",
       "      <td>0.004984</td>\n",
       "      <td>3</td>\n",
       "    </tr>\n",
       "    <tr>\n",
       "      <th>3</th>\n",
       "      <th>64</th>\n",
       "      <td>0.003510</td>\n",
       "      <td>3</td>\n",
       "    </tr>\n",
       "    <tr>\n",
       "      <th>5</th>\n",
       "      <th>64</th>\n",
       "      <td>0.005088</td>\n",
       "      <td>2</td>\n",
       "    </tr>\n",
       "    <tr>\n",
       "      <th>7</th>\n",
       "      <th>64</th>\n",
       "      <td>0.003091</td>\n",
       "      <td>3</td>\n",
       "    </tr>\n",
       "    <tr>\n",
       "      <th>15</th>\n",
       "      <th>64</th>\n",
       "      <td>0.003393</td>\n",
       "      <td>3</td>\n",
       "    </tr>\n",
       "    <tr>\n",
       "      <th>31</th>\n",
       "      <th>64</th>\n",
       "      <td>0.003746</td>\n",
       "      <td>3</td>\n",
       "    </tr>\n",
       "    <tr>\n",
       "      <th rowspan=\"7\" valign=\"top\">5</th>\n",
       "      <th>0</th>\n",
       "      <th>64</th>\n",
       "      <td>0.005959</td>\n",
       "      <td>3</td>\n",
       "    </tr>\n",
       "    <tr>\n",
       "      <th>1</th>\n",
       "      <th>64</th>\n",
       "      <td>0.004191</td>\n",
       "      <td>3</td>\n",
       "    </tr>\n",
       "    <tr>\n",
       "      <th>3</th>\n",
       "      <th>64</th>\n",
       "      <td>0.003484</td>\n",
       "      <td>3</td>\n",
       "    </tr>\n",
       "    <tr>\n",
       "      <th>5</th>\n",
       "      <th>64</th>\n",
       "      <td>0.004293</td>\n",
       "      <td>3</td>\n",
       "    </tr>\n",
       "    <tr>\n",
       "      <th>7</th>\n",
       "      <th>64</th>\n",
       "      <td>0.004360</td>\n",
       "      <td>3</td>\n",
       "    </tr>\n",
       "    <tr>\n",
       "      <th>15</th>\n",
       "      <th>64</th>\n",
       "      <td>0.003846</td>\n",
       "      <td>3</td>\n",
       "    </tr>\n",
       "    <tr>\n",
       "      <th>31</th>\n",
       "      <th>64</th>\n",
       "      <td>0.004116</td>\n",
       "      <td>3</td>\n",
       "    </tr>\n",
       "    <tr>\n",
       "      <th rowspan=\"7\" valign=\"top\">7</th>\n",
       "      <th>0</th>\n",
       "      <th>64</th>\n",
       "      <td>0.063719</td>\n",
       "      <td>2</td>\n",
       "    </tr>\n",
       "    <tr>\n",
       "      <th>1</th>\n",
       "      <th>64</th>\n",
       "      <td>0.008380</td>\n",
       "      <td>2</td>\n",
       "    </tr>\n",
       "    <tr>\n",
       "      <th>3</th>\n",
       "      <th>64</th>\n",
       "      <td>0.006748</td>\n",
       "      <td>2</td>\n",
       "    </tr>\n",
       "    <tr>\n",
       "      <th>5</th>\n",
       "      <th>64</th>\n",
       "      <td>0.006894</td>\n",
       "      <td>2</td>\n",
       "    </tr>\n",
       "    <tr>\n",
       "      <th>7</th>\n",
       "      <th>64</th>\n",
       "      <td>0.005112</td>\n",
       "      <td>2</td>\n",
       "    </tr>\n",
       "    <tr>\n",
       "      <th>15</th>\n",
       "      <th>64</th>\n",
       "      <td>0.002804</td>\n",
       "      <td>2</td>\n",
       "    </tr>\n",
       "    <tr>\n",
       "      <th>31</th>\n",
       "      <th>64</th>\n",
       "      <td>0.004842</td>\n",
       "      <td>3</td>\n",
       "    </tr>\n",
       "  </tbody>\n",
       "</table>\n",
       "</div>"
      ],
      "text/plain": [
       "                                               rl2  seed\n",
       "task      act      method    r   k m  h                 \n",
       "logarithm rational DD_GMGN1D 513 1 0  64  0.001817     1\n",
       "                                   1  64  0.004066     1\n",
       "                                   3  64  0.003468     1\n",
       "                                   7  64  0.005276     2\n",
       "                                   15 64  0.004202     3\n",
       "                                   31 64  0.003823     3\n",
       "                                 3 0  64  0.003782     3\n",
       "                                   1  64  0.004984     3\n",
       "                                   3  64  0.003510     3\n",
       "                                   5  64  0.005088     2\n",
       "                                   7  64  0.003091     3\n",
       "                                   15 64  0.003393     3\n",
       "                                   31 64  0.003746     3\n",
       "                                 5 0  64  0.005959     3\n",
       "                                   1  64  0.004191     3\n",
       "                                   3  64  0.003484     3\n",
       "                                   5  64  0.004293     3\n",
       "                                   7  64  0.004360     3\n",
       "                                   15 64  0.003846     3\n",
       "                                   31 64  0.004116     3\n",
       "                                 7 0  64  0.063719     2\n",
       "                                   1  64  0.008380     2\n",
       "                                   3  64  0.006748     2\n",
       "                                   5  64  0.006894     2\n",
       "                                   7  64  0.005112     2\n",
       "                                   15 64  0.002804     2\n",
       "                                   31 64  0.004842     3"
      ]
     },
     "execution_count": 7,
     "metadata": {},
     "output_type": "execute_result"
    }
   ],
   "source": [
    "test_rl2_df[(test_rl2_df.task == 'logarithm') & (test_rl2_df.method == 'DD_GMGN1D') ].groupby(['task', 'act', 'method', 'r', 'k', 'm', 'h']).agg({'rl2':'mean', 'seed':'count'})"
   ]
  },
  {
   "cell_type": "code",
   "execution_count": null,
   "metadata": {},
   "outputs": [],
   "source": [
    "test_rl2_df[(test_rl2_df.task == 'cosine') & (test_rl2_df.method == 'Toep_GMGN1D') ].groupby(['task', 'act', 'method', 'r', 'k', 'm', 'h']).agg({'rl2':'mean', 'seed':'count'})"
   ]
  },
  {
   "cell_type": "code",
   "execution_count": null,
   "metadata": {},
   "outputs": [],
   "source": [
    "test_rl2_df[(test_rl2_df.task == 'cosine') & (test_rl2_df.method == 'GN1D') ]"
   ]
  },
  {
   "cell_type": "code",
   "execution_count": null,
   "metadata": {},
   "outputs": [],
   "source": [
    "test_rl2_df[(test_rl2_df.task == 'cosine') & (test_rl2_df.method == 'GN1D') ].groupby(['task', 'act', 'method', 'k', 'm', 'h']).agg({'rl2':'mean', 'seed':'count'})"
   ]
  },
  {
   "cell_type": "markdown",
   "metadata": {},
   "source": [
    "Cosine - 513"
   ]
  },
  {
   "cell_type": "code",
   "execution_count": null,
   "metadata": {},
   "outputs": [],
   "source": [
    "l = 9\n",
    "n = 2**l+1\n",
    "s = 2**(l-1)\n",
    "x = torch.linspace(-1,1,2*n-1)\n",
    "\n",
    "A_gt = torch.cos(torch.linspace(-1,1,2*n-1).abs())\n",
    "A_tgl = np.load('../results/logarithm_513/toep_gl-relu-0/approx_kernel.npy') * s\n",
    "A_tgmg = np.load('../results/logarithm_513/toep_mg-3-7-0/approx_kernel.npy') * s\n",
    "\n",
    "hist_tgl = pd.read_csv('../results/logarithm_513/toep_gl-relu-0/hist.csv')\n",
    "hist_tgmg = pd.read_csv('../results/logarithm_513/toep_mg-3-7-0/hist.csv')\n",
    "hist_fno = pd.read_csv('../results/logarithm_513/fno-0/hist.csv')\n"
   ]
  },
  {
   "cell_type": "markdown",
   "metadata": {},
   "source": [
    "Logarithm - 513"
   ]
  },
  {
   "cell_type": "code",
   "execution_count": null,
   "metadata": {},
   "outputs": [],
   "source": [
    "l = 9\n",
    "n = 2**l+1\n",
    "s = 2**(l-1)\n",
    "x = torch.linspace(-1,1,2*n-1)\n",
    "k = 7\n",
    "m = 0\n",
    "\n",
    "if n == 32769:\n",
    "    posinf = 11.09\n",
    "elif n == 8193:\n",
    "    posinf = 9.07\n",
    "else:\n",
    "    posinf = 6.9\n",
    "\n",
    "A_gt = torch.nan_to_num(-torch.log(torch.linspace(-1,1,2*n-1).abs()), posinf=posinf)\n",
    "A_tgl = np.load('../results/logarithm_513/toep_gl-relu-0/approx_kernel.npy') * s\n",
    "A_tgmg = np.load('../results/logarithm_513/toep_mg-3-0-0/approx_kernel.npy') * s\n",
    "A_tgmg7 = np.load('../results/logarithm_513/toep_mg-3-7-0/approx_kernel.npy') * s\n",
    "\n",
    "hist_tgl = pd.read_csv('../results/logarithm_513/toep_gl-relu-0/hist.csv')\n",
    "hist_tgmg = pd.read_csv('../results/logarithm_513/toep_mg-3-0-0/hist.csv')\n",
    "hist_tgmg7 = pd.read_csv('../results/logarithm_513/toep_mg-3-7-0/hist.csv')\n",
    "hist_fno = pd.read_csv('../results/logarithm_513/fno-0/hist.csv')"
   ]
  },
  {
   "cell_type": "markdown",
   "metadata": {},
   "source": [
    "Visualize Kernel"
   ]
  },
  {
   "cell_type": "code",
   "execution_count": null,
   "metadata": {},
   "outputs": [],
   "source": [
    "fig, ax = plt.subplots(figsize=(6,6))\n",
    "ax.plot(x, A_gt, '-k', label='analytic')\n",
    "ax.plot(x, A_tgmg, '-g', label='TGMG-m0')\n",
    "ax.plot(x, A_tgmg7, '-r', label='TGMG-m7')\n",
    "ax.plot(x, A_tgl, '-b', label='TGL')\n",
    "\n",
    "\n",
    "axins = ax.inset_axes([-.3, 0.3, 0.6, 0.6], xlim=(-0.1, 0.1), ylim=(2,10))\n",
    "axins.plot(x, A_gt, '-k', label='analytic')\n",
    "axins.plot(x, A_tgl, '-b', label='TGL')\n",
    "axins.plot(x, A_tgmg7, '-r', label='TGMG-m7')\n",
    "axins.plot(x, A_tgmg, '-g', label='TGMG-m0')\n",
    "\n",
    "ax.indicate_inset_zoom(axins)\n",
    "ax.legend()"
   ]
  },
  {
   "cell_type": "markdown",
   "metadata": {},
   "source": [
    "Training Dynamics"
   ]
  },
  {
   "cell_type": "code",
   "execution_count": null,
   "metadata": {},
   "outputs": [],
   "source": [
    "# plt.plot(hist_gl.test_rl2, '-k', label='GL')\n",
    "plt.plot(hist_tgl.test_rl2, '-b', label='TGL')\n",
    "plt.plot(hist_tgmg.test_rl2, '-g', label='TGMG-m0')\n",
    "plt.plot(hist_tgmg7.test_rl2, '-m', label='TGMG-m7')\n",
    "plt.plot(hist_fno.test_rl2, '-r', label='FNO')\n",
    "plt.legend()\n",
    "plt.yscale('log')\n",
    "# plt.ylim([0, 0.001])\n",
    "plt.minorticks_on()"
   ]
  },
  {
   "cell_type": "code",
   "execution_count": null,
   "metadata": {},
   "outputs": [],
   "source": [
    "matrl2_error(torch.tensor(A_tgmg7[None]), torch.tensor(A_gt[None]))"
   ]
  },
  {
   "cell_type": "code",
   "execution_count": null,
   "metadata": {},
   "outputs": [],
   "source": [
    "matrl2_error(torch.tensor(A_tgl[None]), torch.tensor(A_gt[None]))"
   ]
  },
  {
   "cell_type": "code",
   "execution_count": null,
   "metadata": {},
   "outputs": [],
   "source": [
    "matrl2_error(torch.tensor(A_tgmg[None]), torch.tensor(A_gt[None]))"
   ]
  },
  {
   "cell_type": "markdown",
   "metadata": {},
   "source": [
    "Laplace - 513"
   ]
  },
  {
   "cell_type": "code",
   "execution_count": null,
   "metadata": {},
   "outputs": [],
   "source": [
    "l = 13\n",
    "n = 2**l+1\n",
    "s = 2**l\n",
    "x = torch.linspace(0,1,n)\n",
    "\n",
    "raw_data = scipy.io.loadmat(f'../../pde_data/green_learning/data1d_{n}/laplace.mat')\n",
    "xh, yh = raw_data['X'], raw_data['Y']\n",
    "x, y = np.meshgrid(xh, yh)\n",
    "K_gt = eval(raw_data['ExactGreen'][0]).T\n",
    "\n",
    "K_lrgl = np.load(f'../results/laplace_{n}/lr_gl-relu-16-0/approx_kernel.npy')[0] * s\n",
    "K_gmg = np.load(f'../results/laplace_{n}/dd_mg-7-7-0/approx_kernel.npy')[0]*2\n",
    "K_lrgmg = np.load(f'../results/laplace_{n}/lrdd_mg-5-7-16-0/approx_kernel.npy')[0,0]*2\n",
    "\n",
    "# hist_gl = pd.read_csv('../results/laplace_513/gl-relu-0/hist.csv')\n",
    "# hist_gmg = pd.read_csv('../results/laplace_513/dd_mg-5-5-1/hist.csv')\n",
    "# hist_fno = pd.read_csv('../results/laplace_513/fno-0/hist.csv')"
   ]
  },
  {
   "cell_type": "code",
   "execution_count": null,
   "metadata": {},
   "outputs": [],
   "source": [
    "fig, (ax1, ax2, ax3, ax4) = plt.subplots(figsize=(16, 4), ncols=4)\n",
    "gmg_fig = ax1.imshow(K_gmg, cmap='jet', vmax=K_gt.max(), vmin=K_gt.min())\n",
    "ax1.set_title('GreenMG')\n",
    "fig.colorbar(gmg_fig, ax=ax1, shrink=0.7)\n",
    "lrgl_fig = ax2.imshow(K_lrgl, cmap='jet', vmax=K_gt.max(), vmin=K_gt.min())\n",
    "fig.colorbar(lrgl_fig, ax=ax2, shrink=0.7)\n",
    "ax2.set_title('LRGreenNet')\n",
    "lrgmg_fig = ax3.imshow(K_lrgmg, cmap='jet', vmax=K_gt.max(), vmin=K_gt.min())\n",
    "fig.colorbar(lrgmg_fig, ax=ax3, shrink=0.7)\n",
    "ax3.set_title('LRGreenMG')\n",
    "gt_fig = ax4.imshow(K_gt, cmap='jet', vmax=K_gt.max(), vmin=K_gt.min())\n",
    "fig.colorbar(gt_fig, ax=ax4, shrink=0.7)\n",
    "ax4.set_title('Analytic')\n",
    "# err_fig = ax4.imshow(np.abs(K_gt-K_gmg), cmap='seismic')\n",
    "# fig.colorbar(err_fig, ax=ax4, shrink=0.7)\n",
    "# ax4.set_title('GreenMG-AbsError')"
   ]
  },
  {
   "cell_type": "code",
   "execution_count": null,
   "metadata": {},
   "outputs": [],
   "source": [
    "idx = 5000\n",
    "fig, ax = plt.subplots(figsize=(6,6))\n",
    "ax.plot(x[0], K_gt[idx], '-k', label='analytic')\n",
    "ax.plot(x[0], K_gmg[idx], '-g', label='GreenMG')\n",
    "ax.plot(x[0], K_lrgl[idx], '-b', label='LRGreenNet')\n",
    "ax.plot(x[0], K_lrgmg[idx], '-r', label='LRGreenMG')\n",
    "\n",
    "# ax.set_xlim([0.49, 0.51])\n",
    "# ax.set_ylim([0.22, 0.26])"
   ]
  },
  {
   "cell_type": "code",
   "execution_count": null,
   "metadata": {},
   "outputs": [],
   "source": [
    "plt.plot(hist_gl.test_rl2, '-b', label='GreenNet')\n",
    "plt.plot(hist_gmg.test_rl2, '-g', label='GreenMG')\n",
    "plt.plot(hist_fno.test_rl2, '-r', label='FNO')\n",
    "plt.legend()\n",
    "plt.yscale('log')\n",
    "plt.minorticks_on()"
   ]
  },
  {
   "cell_type": "code",
   "execution_count": null,
   "metadata": {},
   "outputs": [],
   "source": [
    "matrl2_error(torch.tensor(K_gl[None]), torch.tensor(K_gt[None]))"
   ]
  },
  {
   "cell_type": "code",
   "execution_count": null,
   "metadata": {},
   "outputs": [],
   "source": [
    "matrl2_error(torch.tensor(K_gmg[None]), torch.tensor(K_gt[None]))"
   ]
  },
  {
   "cell_type": "markdown",
   "metadata": {},
   "source": [
    "Schrodinger - 513"
   ]
  },
  {
   "cell_type": "code",
   "execution_count": null,
   "metadata": {},
   "outputs": [],
   "source": [
    "l = 9\n",
    "n = 2**l+1\n",
    "s = 2**l\n",
    "x = torch.linspace(-1,1,2*n-1)\n",
    "\n",
    "K_gmg = np.load('../results/schrodinger_513/dd_mg-1-3-1/approx_kernel.npy')[0] * s\n",
    "K_gl = np.load('../results/schrodinger_513/dd_mg-1-3-1/approx_kernel.npy')[0] * s\n",
    "\n",
    "# K_gmg = np.load('../results/interior_layer_513/dd_mg-0-0-1/approx_kernel.npy')[0] * s\n",
    "\n",
    "\n",
    "hist_gl = pd.read_csv('../results/schrodinger_513/')\n",
    "hist_gmg = pd.read_csv('../results/schrodinger_513/dd_mg-0-3-1/hist.csv')\n",
    "hist_fno = pd.read_csv('../results/schrodinger_513/fno-0/hist.csv')"
   ]
  },
  {
   "cell_type": "code",
   "execution_count": null,
   "metadata": {},
   "outputs": [],
   "source": [
    "plt.imshow(K_gmg)\n",
    "plt.title('GreenMG')\n",
    "plt.colorbar()"
   ]
  },
  {
   "cell_type": "code",
   "execution_count": null,
   "metadata": {},
   "outputs": [],
   "source": [
    "plt.plot(hist_gmg.test_rl2, '-g', label='GreenMG')\n",
    "plt.plot(hist_fno.test_rl2, '-r', label='FNO')\n",
    "plt.legend()\n",
    "plt.yscale('log')\n",
    "plt.minorticks_on()"
   ]
  }
 ],
 "metadata": {
  "kernelspec": {
   "display_name": "base",
   "language": "python",
   "name": "python3"
  },
  "language_info": {
   "codemirror_mode": {
    "name": "ipython",
    "version": 3
   },
   "file_extension": ".py",
   "mimetype": "text/x-python",
   "name": "python",
   "nbconvert_exporter": "python",
   "pygments_lexer": "ipython3",
   "version": "3.10.11"
  }
 },
 "nbformat": 4,
 "nbformat_minor": 2
}
