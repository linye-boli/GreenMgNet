{
 "cells": [
  {
   "cell_type": "code",
   "execution_count": 1,
   "metadata": {},
   "outputs": [],
   "source": [
    "import scipy\n",
    "import numpy as np\n",
    "import matplotlib.pyplot as plt\n",
    "import torch\n",
    "\n",
    "from utils import matrl2_error, rl2_error\n",
    "from ops import injection2d, injection4d \n",
    "from ops import interp2d, interp1d_cols, interp1d_rows\n",
    "from ops import restrict2d\n",
    "from ops import fetch_nbrs2d #, fetch_nbrs4d\n",
    "from ops import coord2idx2d, coord2idx4d\n",
    "from ops import cat2d_nbr_coords\n",
    "from ops import grid2d_coords, grid4d_coords\n",
    "from einops import rearrange"
   ]
  },
  {
   "cell_type": "code",
   "execution_count": 2,
   "metadata": {},
   "outputs": [],
   "source": [
    "l = 129\n",
    "poisson_data = scipy.io.loadmat(f'../pde_data/green_learning/data2d_{l}/poisson.mat')\n",
    "F = poisson_data['F']"
   ]
  },
  {
   "cell_type": "code",
   "execution_count": 3,
   "metadata": {},
   "outputs": [],
   "source": [
    "def kernel_func(pts_pairs):\n",
    "    x1 = pts_pairs[:,0]\n",
    "    y1 = pts_pairs[:,1]\n",
    "\n",
    "    x2 = pts_pairs[:,2]\n",
    "    y2 = pts_pairs[:,3]\n",
    "\n",
    "    mask = ((x1**2+y1**2) < 1) & ((x2**2+y2**2) < 1)\n",
    "\n",
    "    k = 1/(4*torch.pi) * torch.log(((x1 - x2)**2 + (y1-y2)**2) / ((x1*y2-x2*y1)**2 + (x1*x2+y1*y2-1)**2))\n",
    "    k = torch.nan_to_num(k, neginf=-2) * mask\n",
    "\n",
    "    return k"
   ]
  },
  {
   "cell_type": "code",
   "execution_count": 4,
   "metadata": {},
   "outputs": [],
   "source": [
    "def ffunc(pts):\n",
    "    x = pts[:,0]\n",
    "    y = pts[:,1]\n",
    "    u = (1 - (x**2+y**2))**-0.5\n",
    "    u = torch.nan_to_num(u, posinf=0)\n",
    "    return u"
   ]
  },
  {
   "cell_type": "code",
   "execution_count": 8,
   "metadata": {},
   "outputs": [],
   "source": [
    "class Grid2D:\n",
    "    def __init__(self, n, m):\n",
    "        self.n = n \n",
    "        self.m = m\n",
    "        self.nh = 2**n + 1\n",
    "        self.init_grid()\n",
    "        self.fetch_nbrs()\n",
    "        self.fetch_fine_even()\n",
    "        self.fetch_fine_odd()\n",
    "        self.h = self.x_h[1] - self.x_h[0]\n",
    "    \n",
    "    def init_grid(self):\n",
    "        x_h, coords_h = grid2d_coords(self.nh)\n",
    "        x_hh, coords_hh = grid4d_coords(self.nh)\n",
    "        self.x_h = x_h \n",
    "        self.x_hh = x_hh \n",
    "        self.coords_h = coords_h \n",
    "        self.coords_hh = coords_hh\n",
    "    \n",
    "    def fetch_nbrs(self):\n",
    "        ij_coords = fetch_nbrs2d(\n",
    "            self.coords_h, mx1=self.m, mx2=self.m,\n",
    "            my1=self.m, my2=self.m)\n",
    "        \n",
    "        self.ij_coords = cat2d_nbr_coords(\n",
    "            self.coords_h, ij_coords)\n",
    "        \n",
    "        self.ij_idx = coord2idx4d(self.ij_coords, self.nh)\n",
    "        self.x_ij = torch.squeeze(self.x_hh[self.ij_idx])\n",
    "    \n",
    "    def fetch_fine_even(self):\n",
    "        coords_H = self.coords_h\n",
    "        IJ_coords = self.ij_coords\n",
    "        ij_xeven_yfull_coords = interp1d_cols(\n",
    "            IJ_coords[...,2:].permute(0,3,1,2)*2).permute(0,2,3,1).int()\n",
    "        ij_xeven_yodd_coords = ij_xeven_yfull_coords[:,:,1::2]\n",
    "        ij_xeven_yodd_coords = cat2d_nbr_coords(coords_H*2, ij_xeven_yodd_coords)\n",
    "        ij_xeven_yodd_idx = coord2idx4d(ij_xeven_yodd_coords, self.nh)\n",
    "        x_ij_xeven_yodd = x_hh[ij_xeven_yodd_idx]"
   ]
  },
  {
   "cell_type": "code",
   "execution_count": 17,
   "metadata": {},
   "outputs": [],
   "source": [
    "n = 7 # total level\n",
    "k = 2 # coarse level\n",
    "d = 2 # problem dimension\n",
    "M = 2 # local range"
   ]
  },
  {
   "cell_type": "code",
   "execution_count": 18,
   "metadata": {},
   "outputs": [],
   "source": [
    "# multi grid\n",
    "ml_grids = []\n",
    "\n",
    "for l in range(k+1):\n",
    "    ml_grids.append(Grid2D(n))\n",
    "    n = (n-1)//2+1\n",
    "    "
   ]
  },
  {
   "cell_type": "code",
   "execution_count": 22,
   "metadata": {},
   "outputs": [
    {
     "data": {
      "text/plain": [
       "17"
      ]
     },
     "execution_count": 22,
     "metadata": {},
     "output_type": "execute_result"
    }
   ],
   "source": []
  },
  {
   "cell_type": "code",
   "execution_count": null,
   "metadata": {},
   "outputs": [],
   "source": []
  }
 ],
 "metadata": {
  "kernelspec": {
   "display_name": "base",
   "language": "python",
   "name": "python3"
  },
  "language_info": {
   "codemirror_mode": {
    "name": "ipython",
    "version": 3
   },
   "file_extension": ".py",
   "mimetype": "text/x-python",
   "name": "python",
   "nbconvert_exporter": "python",
   "pygments_lexer": "ipython3",
   "version": "3.10.11"
  }
 },
 "nbformat": 4,
 "nbformat_minor": 2
}
