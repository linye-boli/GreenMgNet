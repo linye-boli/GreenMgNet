{
 "cells": [
  {
   "cell_type": "code",
   "execution_count": 1,
   "metadata": {},
   "outputs": [],
   "source": [
    "import os\n",
    "import numpy as np\n",
    "import torch \n",
    "import argparse \n",
    "import torch.nn.functional as F \n",
    "from src.dataset import load_dataset_1d \n",
    "from src.utils import (\n",
    "    init_records, save_hist, get_seed, rl2_error)\n",
    "import json \n",
    "from tqdm import trange\n",
    "import time\n",
    "\n",
    "from src.model import MLP\n",
    "from src.dd_gmg import DD_GMG1D\n",
    "from src.green_net import GreenNet1D\n",
    "\n"
   ]
  },
  {
   "cell_type": "markdown",
   "metadata": {},
   "source": [
    "Pseudo data"
   ]
  },
  {
   "cell_type": "code",
   "execution_count": 2,
   "metadata": {},
   "outputs": [],
   "source": [
    "n = 9\n",
    "bsz = 200\n",
    "seq_len = 2**9+1\n",
    "u = torch.randn(seq_len, bsz)\n",
    "f = torch.randn(seq_len, bsz)"
   ]
  },
  {
   "cell_type": "markdown",
   "metadata": {},
   "source": [
    "Speed Measure for Green 1D"
   ]
  },
  {
   "cell_type": "code",
   "execution_count": 3,
   "metadata": {},
   "outputs": [],
   "source": [
    "ps = [0.01, 0.03, 0.05, 0.07, 0.1, 0.15, 0.25, 0.30, 0.4, 0.5, 0.7, 0.9, 1.0]"
   ]
  },
  {
   "cell_type": "code",
   "execution_count": 10,
   "metadata": {},
   "outputs": [
    {
     "name": "stderr",
     "output_type": "stream",
     "text": [
      "100%|██████████| 5/5 [00:00<00:00, 13.88it/s]\n",
      " 11%|█         | 106/1000 [00:06<00:54, 16.31it/s]\n"
     ]
    },
    {
     "ename": "KeyboardInterrupt",
     "evalue": "",
     "output_type": "error",
     "traceback": [
      "\u001b[0;31m---------------------------------------------------------------------------\u001b[0m",
      "\u001b[0;31mKeyboardInterrupt\u001b[0m                         Traceback (most recent call last)",
      "Cell \u001b[0;32mIn[10], line 73\u001b[0m\n\u001b[1;32m     70\u001b[0m     loss \u001b[38;5;241m=\u001b[39m rl2_error(u_\u001b[38;5;241m.\u001b[39mT, u\u001b[38;5;241m.\u001b[39mT)\n\u001b[1;32m     72\u001b[0m opt_adam\u001b[38;5;241m.\u001b[39mzero_grad()\n\u001b[0;32m---> 73\u001b[0m \u001b[43mloss\u001b[49m\u001b[38;5;241;43m.\u001b[39;49m\u001b[43mbackward\u001b[49m\u001b[43m(\u001b[49m\u001b[43m)\u001b[49m \u001b[38;5;66;03m# use the l2 relative loss\u001b[39;00m\n\u001b[1;32m     74\u001b[0m opt_adam\u001b[38;5;241m.\u001b[39mstep()\n\u001b[1;32m     76\u001b[0m \u001b[38;5;28;01mif\u001b[39;00m cuda:\n",
      "File \u001b[0;32m/opt/conda/lib/python3.10/site-packages/torch/_tensor.py:487\u001b[0m, in \u001b[0;36mTensor.backward\u001b[0;34m(self, gradient, retain_graph, create_graph, inputs)\u001b[0m\n\u001b[1;32m    477\u001b[0m \u001b[38;5;28;01mif\u001b[39;00m has_torch_function_unary(\u001b[38;5;28mself\u001b[39m):\n\u001b[1;32m    478\u001b[0m     \u001b[38;5;28;01mreturn\u001b[39;00m handle_torch_function(\n\u001b[1;32m    479\u001b[0m         Tensor\u001b[38;5;241m.\u001b[39mbackward,\n\u001b[1;32m    480\u001b[0m         (\u001b[38;5;28mself\u001b[39m,),\n\u001b[0;32m   (...)\u001b[0m\n\u001b[1;32m    485\u001b[0m         inputs\u001b[38;5;241m=\u001b[39minputs,\n\u001b[1;32m    486\u001b[0m     )\n\u001b[0;32m--> 487\u001b[0m \u001b[43mtorch\u001b[49m\u001b[38;5;241;43m.\u001b[39;49m\u001b[43mautograd\u001b[49m\u001b[38;5;241;43m.\u001b[39;49m\u001b[43mbackward\u001b[49m\u001b[43m(\u001b[49m\n\u001b[1;32m    488\u001b[0m \u001b[43m    \u001b[49m\u001b[38;5;28;43mself\u001b[39;49m\u001b[43m,\u001b[49m\u001b[43m \u001b[49m\u001b[43mgradient\u001b[49m\u001b[43m,\u001b[49m\u001b[43m \u001b[49m\u001b[43mretain_graph\u001b[49m\u001b[43m,\u001b[49m\u001b[43m \u001b[49m\u001b[43mcreate_graph\u001b[49m\u001b[43m,\u001b[49m\u001b[43m \u001b[49m\u001b[43minputs\u001b[49m\u001b[38;5;241;43m=\u001b[39;49m\u001b[43minputs\u001b[49m\n\u001b[1;32m    489\u001b[0m \u001b[43m\u001b[49m\u001b[43m)\u001b[49m\n",
      "File \u001b[0;32m/opt/conda/lib/python3.10/site-packages/torch/autograd/__init__.py:200\u001b[0m, in \u001b[0;36mbackward\u001b[0;34m(tensors, grad_tensors, retain_graph, create_graph, grad_variables, inputs)\u001b[0m\n\u001b[1;32m    195\u001b[0m     retain_graph \u001b[38;5;241m=\u001b[39m create_graph\n\u001b[1;32m    197\u001b[0m \u001b[38;5;66;03m# The reason we repeat same the comment below is that\u001b[39;00m\n\u001b[1;32m    198\u001b[0m \u001b[38;5;66;03m# some Python versions print out the first line of a multi-line function\u001b[39;00m\n\u001b[1;32m    199\u001b[0m \u001b[38;5;66;03m# calls in the traceback and some print out the last line\u001b[39;00m\n\u001b[0;32m--> 200\u001b[0m \u001b[43mVariable\u001b[49m\u001b[38;5;241;43m.\u001b[39;49m\u001b[43m_execution_engine\u001b[49m\u001b[38;5;241;43m.\u001b[39;49m\u001b[43mrun_backward\u001b[49m\u001b[43m(\u001b[49m\u001b[43m  \u001b[49m\u001b[38;5;66;43;03m# Calls into the C++ engine to run the backward pass\u001b[39;49;00m\n\u001b[1;32m    201\u001b[0m \u001b[43m    \u001b[49m\u001b[43mtensors\u001b[49m\u001b[43m,\u001b[49m\u001b[43m \u001b[49m\u001b[43mgrad_tensors_\u001b[49m\u001b[43m,\u001b[49m\u001b[43m \u001b[49m\u001b[43mretain_graph\u001b[49m\u001b[43m,\u001b[49m\u001b[43m \u001b[49m\u001b[43mcreate_graph\u001b[49m\u001b[43m,\u001b[49m\u001b[43m \u001b[49m\u001b[43minputs\u001b[49m\u001b[43m,\u001b[49m\n\u001b[1;32m    202\u001b[0m \u001b[43m    \u001b[49m\u001b[43mallow_unreachable\u001b[49m\u001b[38;5;241;43m=\u001b[39;49m\u001b[38;5;28;43;01mTrue\u001b[39;49;00m\u001b[43m,\u001b[49m\u001b[43m \u001b[49m\u001b[43maccumulate_grad\u001b[49m\u001b[38;5;241;43m=\u001b[39;49m\u001b[38;5;28;43;01mTrue\u001b[39;49;00m\u001b[43m)\u001b[49m\n",
      "\u001b[0;31mKeyboardInterrupt\u001b[0m: "
     ]
    }
   ],
   "source": [
    "iters = 1000\n",
    "warmup_iters = 5\n",
    "\n",
    "cuda = False\n",
    "if cuda:\n",
    "    device = torch.device('cuda:0')\n",
    "else:\n",
    "    device = torch.device('cpu')\n",
    "\n",
    "\n",
    "u = torch.randn(seq_len, bsz).to(device)\n",
    "f = torch.randn(seq_len, bsz).to(device)\n",
    "\n",
    "p = ps[3]\n",
    "in_channels = 2\n",
    "out_channels = 1\n",
    "hidden_channels = 50 \n",
    "layers = [in_channels] + [hidden_channels]*4 + [out_channels]\n",
    "kernel = MLP(layers, nonlinearity='rational', aug='none_1d').to(device)\n",
    "model = GreenNet1D(n=n, kernel=kernel, device=device, p=p)\n",
    "model.rand_sub()\n",
    "\n",
    "opt_adam = torch.optim.Adam(kernel.parameters(), lr=1e-3)\n",
    "\n",
    "model.kernel.train()\n",
    "\n",
    "for i in trange(warmup_iters):\n",
    "    if p < 1:\n",
    "        model.eval_K_sub()\n",
    "        u_ = model.sub_kint(f)\n",
    "        # calc loss \n",
    "        loss = rl2_error(u_.T, u[model.sub].T)\n",
    "    else:\n",
    "        model.eval_K()\n",
    "        u_ = model.full_kint(f)\n",
    "        # calc loss \n",
    "        loss = rl2_error(u_.T, u.T)\n",
    "    \n",
    "    opt_adam.zero_grad()\n",
    "    loss.backward() # use the l2 relative loss\n",
    "    opt_adam.step()\n",
    "\n",
    "if cuda:\n",
    "    torch.cuda.synchronize()\n",
    "\n",
    "times = []\n",
    "keval_times = []\n",
    "kint_times = []\n",
    "\n",
    "for i in trange(iters):\n",
    "    if cuda:\n",
    "        torch.cuda.synchronize()\n",
    "    start_time = time.time()\n",
    "\n",
    "    if p < 1:\n",
    "        keval_start_time = time.time()\n",
    "        model.eval_K_sub()\n",
    "        keval_end_time = time.time()\n",
    "        u_ = model.sub_kint(f)\n",
    "        kint_end_time = time.time()\n",
    "        # calc loss \n",
    "        loss = rl2_error(u_.T, u[model.sub].T)\n",
    "    else:\n",
    "        keval_start_time = time.time()\n",
    "        model.eval_K()\n",
    "        keval_end_time = time.time()\n",
    "        u_ = model.full_kint(f)\n",
    "        kint_end_time = time.time()\n",
    "        # calc loss \n",
    "        loss = rl2_error(u_.T, u.T)\n",
    "    \n",
    "    opt_adam.zero_grad()\n",
    "    loss.backward() # use the l2 relative loss\n",
    "    opt_adam.step()\n",
    "\n",
    "    if cuda:\n",
    "        torch.cuda.synchronize()    \n",
    "    end_time = time.time()\n",
    "\n",
    "    elapsed = end_time - start_time\n",
    "    times.append(elapsed)\n",
    "\n",
    "    keval_elapsed = keval_end_time - keval_start_time\n",
    "    keval_times.append(keval_elapsed)\n",
    "\n",
    "    kint_elapsed = kint_end_time - keval_end_time\n",
    "    kint_times.append(kint_elapsed)\n",
    "\n",
    "avg_time = sum(times) / iters\n",
    "keval_avg_time = sum(keval_times) / iters\n",
    "kint_avg_time = sum(kint_times) / iters\n",
    "\n",
    "print(\"full train : \", avg_time)\n",
    "print(\"keval train : \", keval_avg_time)\n",
    "print(\"kint train : \", kint_avg_time)"
   ]
  },
  {
   "cell_type": "markdown",
   "metadata": {},
   "source": [
    "Speed Measure for GreenMGNet 1D"
   ]
  },
  {
   "cell_type": "code",
   "execution_count": null,
   "metadata": {},
   "outputs": [],
   "source": []
  }
 ],
 "metadata": {
  "kernelspec": {
   "display_name": "base",
   "language": "python",
   "name": "python3"
  },
  "language_info": {
   "codemirror_mode": {
    "name": "ipython",
    "version": 3
   },
   "file_extension": ".py",
   "mimetype": "text/x-python",
   "name": "python",
   "nbconvert_exporter": "python",
   "pygments_lexer": "ipython3",
   "version": "3.10.11"
  }
 },
 "nbformat": 4,
 "nbformat_minor": 2
}
