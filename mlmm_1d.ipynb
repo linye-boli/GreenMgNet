{
 "cells": [
  {
   "cell_type": "code",
   "execution_count": 1,
   "metadata": {},
   "outputs": [],
   "source": [
    "import matplotlib.pyplot as plt \n",
    "import torch \n",
    "from ops import grid2d_coords, grid1d_coords\n",
    "from ops import fetch_nbrs1d\n",
    "from ops import interp1d\n",
    "from ops import injection1d\n",
    "from ops import restrict1d\n",
    "from utils import rl2_error, matrl2_error\n",
    "from mlmm import Grid1D \n",
    "from mlmm import kernel_func_2D, ffunc_1D\n",
    "from mlmm import MLMM1D"
   ]
  },
  {
   "cell_type": "code",
   "execution_count": 2,
   "metadata": {},
   "outputs": [],
   "source": [
    "n = 15\n",
    "m = 3\n",
    "k = 7"
   ]
  },
  {
   "cell_type": "code",
   "execution_count": 5,
   "metadata": {},
   "outputs": [
    {
     "name": "stdout",
     "output_type": "stream",
     "text": [
      "finest grid : 65537\n",
      "coarest grid : 32769\n"
     ]
    }
   ],
   "source": [
    "mlmm1d = MLMM1D(n,m,1)\n",
    "f_h = ffunc_1D(mlmm1d.ml_grids[0].x_h).T[None].repeat(7,1,1)\n",
    "mlmm1d.restrict_ml_f(f_h)\n",
    "finest_grid = mlmm1d.ml_grids[0]\n",
    "fh = torch.squeeze(mlmm1d.ml_f[0]).T\n",
    "nh = finest_grid.nh\n",
    "hh = finest_grid.hh\n",
    "finest_grid.init_grid_hh()\n",
    "finest_pts = finest_grid.x_hh.reshape(-1,2)\n",
    "Khh = kernel_func_2D(finest_pts).reshape(nh, nh)\n",
    "uh = hh * (Khh @ fh).T"
   ]
  },
  {
   "cell_type": "code",
   "execution_count": 3,
   "metadata": {},
   "outputs": [
    {
     "name": "stdout",
     "output_type": "stream",
     "text": [
      "finest grid : 65537\n",
      "coarest grid : 513\n"
     ]
    }
   ],
   "source": [
    "for k in range(7):\n",
    "    mlmm1d = MLMM1D(n,m,k)\n",
    "    f_h = ffunc_1D(mlmm1d.ml_grids[0].x_h).T[None].repeat(7,1,1)\n",
    "    mlmm1d.restrict_ml_f(f_h)\n",
    "    mlmm1d.eval_ml_K(kernel_func_2D)\n",
    "    uh_ = mlmm1d.ml_kint()"
   ]
  },
  {
   "cell_type": "code",
   "execution_count": 26,
   "metadata": {},
   "outputs": [],
   "source": []
  },
  {
   "cell_type": "code",
   "execution_count": 27,
   "metadata": {},
   "outputs": [],
   "source": [
    "finest_grid = mlmm1d.ml_grids[0]\n",
    "fh = torch.squeeze(mlmm1d.ml_f[0]).T\n",
    "nh = finest_grid.nh\n",
    "hh = finest_grid.hh\n",
    "finest_grid.init_grid_hh()\n",
    "finest_pts = finest_grid.x_hh.reshape(-1,2)\n",
    "Khh = kernel_func_2D(finest_pts).reshape(nh, nh)\n",
    "uh = hh * (Khh @ fh).T"
   ]
  },
  {
   "cell_type": "code",
   "execution_count": 28,
   "metadata": {},
   "outputs": [
    {
     "name": "stdout",
     "output_type": "stream",
     "text": [
      "m 6 : 1.7608e-04 \n"
     ]
    }
   ],
   "source": [
    "print(\"m {:} : {:.4e} \".format(2*m, rl2_error(uh_, uh).numpy()))"
   ]
  },
  {
   "cell_type": "code",
   "execution_count": 29,
   "metadata": {},
   "outputs": [
    {
     "name": "stdout",
     "output_type": "stream",
     "text": [
      "479 ms ± 3.75 ms per loop (mean ± std. dev. of 7 runs, 1 loop each)\n"
     ]
    }
   ],
   "source": [
    "%%timeit\n",
    "uh = hh * (Khh @ fh).T"
   ]
  },
  {
   "cell_type": "code",
   "execution_count": 30,
   "metadata": {},
   "outputs": [
    {
     "name": "stdout",
     "output_type": "stream",
     "text": [
      "50.2 ms ± 563 µs per loop (mean ± std. dev. of 7 runs, 10 loops each)\n"
     ]
    }
   ],
   "source": [
    "%%timeit\n",
    "uh_ = mlmm1d.ml_kint()"
   ]
  },
  {
   "cell_type": "code",
   "execution_count": 23,
   "metadata": {},
   "outputs": [
    {
     "name": "stdout",
     "output_type": "stream",
     "text": [
      "torch.Size([33, 7])\n",
      "torch.Size([33, 6]) torch.Size([33, 6])\n"
     ]
    },
    {
     "ename": "NameError",
     "evalue": "name 'self' is not defined",
     "output_type": "error",
     "traceback": [
      "\u001b[0;31m---------------------------------------------------------------------------\u001b[0m",
      "\u001b[0;31mNameError\u001b[0m                                 Traceback (most recent call last)",
      "Cell \u001b[0;32mIn[23], line 34\u001b[0m\n\u001b[1;32m     31\u001b[0m u_h_ \u001b[38;5;241m=\u001b[39m u_h_ \u001b[38;5;241m+\u001b[39m u_corr_\n\u001b[1;32m     33\u001b[0m \u001b[38;5;66;03m# get new K_IJ, u_h\u001b[39;00m\n\u001b[0;32m---> 34\u001b[0m K_IJ \u001b[38;5;241m=\u001b[39m K_ij[:,\u001b[38;5;28;43mself\u001b[39;49m\u001b[38;5;241m.\u001b[39mm:\u001b[38;5;241m-\u001b[39m\u001b[38;5;28mself\u001b[39m\u001b[38;5;241m.\u001b[39mm]\n\u001b[1;32m     35\u001b[0m u_h \u001b[38;5;241m=\u001b[39m u_h_\n",
      "\u001b[0;31mNameError\u001b[0m: name 'self' is not defined"
     ]
    }
   ],
   "source": [
    "u_h = mlmm1d.coarest_full_kint()\n",
    "K_IJ = torch.squeeze(mlmm1d.K_HH[mlmm1d.ml_grids[-1].ij_idx])\n",
    "print(K_IJ.shape)\n",
    "\n",
    "l = 1\n",
    "nh = mlmm1d.ml_grids[-1-l].nh\n",
    "hh = mlmm1d.ml_grids[-1-l].hh\n",
    "f_h = torch.squeeze(mlmm1d.ml_f[-1-l]).T\n",
    "\n",
    "K_local_even, K_local_odd = mlmm1d.K_locals[l-1]\n",
    "idx_corr_even, idx_corr_odd = mlmm1d.local_idx[l-1]\n",
    "K_ij = K_local_assemble_2D(K_IJ, K_local_even, K_local_odd)\n",
    "K_2Ij = K_ij[::2]\n",
    "\n",
    "# local kernel interpolation\n",
    "K_local_even_, K_local_odd_ = K_local_interp_2D(K_IJ, K_2Ij)\n",
    "# calculate difference\n",
    "K_corr_even = K_local_even.reshape(-1) - K_local_even_\n",
    "K_corr_odd = K_local_odd.reshape(-1) - K_local_odd_\n",
    "\n",
    "# correct even \n",
    "K_corr_even_sparse = torch.sparse_coo_tensor(idx_corr_even, K_corr_even,(nh,nh))\n",
    "u_corr_ = torch.sparse.mm(K_corr_even_sparse, f_h).T\n",
    "u_corr_ = hh * injection1d(u_corr_[None,None])[0,0]\n",
    "u_h_ = u_h + u_corr_\n",
    "u_h_ = interp1d(u_h_[:,None])[:,0]\n",
    "\n",
    "# correct odd \n",
    "K_corr_odd_sparse = torch.sparse_coo_tensor(idx_corr_odd, K_corr_odd,(nh,nh))\n",
    "u_corr_ = hh*torch.sparse.mm(K_corr_odd_sparse, f_h).T\n",
    "u_h_ = u_h_ + u_corr_\n",
    "\n",
    "# get new K_IJ, u_h\n",
    "K_IJ = K_ij[:,self.m:-self.m]\n",
    "u_h = u_h_"
   ]
  },
  {
   "cell_type": "code",
   "execution_count": 22,
   "metadata": {},
   "outputs": [
    {
     "data": {
      "text/plain": [
       "torch.Size([7, 65])"
      ]
     },
     "execution_count": 22,
     "metadata": {},
     "output_type": "execute_result"
    }
   ],
   "source": [
    "u_h_.shape"
   ]
  },
  {
   "cell_type": "code",
   "execution_count": 7,
   "metadata": {},
   "outputs": [
    {
     "data": {
      "text/plain": [
       "torch.Size([7, 1, 65])"
      ]
     },
     "execution_count": 7,
     "metadata": {},
     "output_type": "execute_result"
    }
   ],
   "source": [
    "f_h.shape"
   ]
  },
  {
   "cell_type": "code",
   "execution_count": 10,
   "metadata": {},
   "outputs": [
    {
     "name": "stdout",
     "output_type": "stream",
     "text": [
      "wo : 1.4853e-01 \n"
     ]
    }
   ],
   "source": [
    "# eval kernel at coarest level\n",
    "K_hh = kernel_func_2D(mlmm1d.coarest_pts)\n",
    "\n",
    "# eval kernel integral at coarest level\n",
    "nH = mlmm1d.ml_grids[-1].nh\n",
    "HH = mlmm1d.ml_grids[-1].hh\n",
    "f_h = mlmm1d.ml_f[-1]\n",
    "u_h = HH * (K_hh.reshape(nH, nH) @ torch.squeeze(f_h).T).T\n",
    "\n",
    "# direct interp\n",
    "u_interp = u_h\n",
    "for l in range(k):\n",
    "    u_interp = interp1d(u_interp[None])[0]\n",
    "print(\"wo : {:.4e} \".format(matrl2_error(u_interp, u_ref).numpy()))\n"
   ]
  },
  {
   "cell_type": "code",
   "execution_count": 13,
   "metadata": {},
   "outputs": [
    {
     "data": {
      "text/plain": [
       "[<matplotlib.lines.Line2D at 0x7fc3b4d7d510>]"
      ]
     },
     "execution_count": 13,
     "metadata": {},
     "output_type": "execute_result"
    },
    {
     "data": {
      "image/png": "[encoded data removed]",
      "text/plain": [
       "<Figure size 640x480 with 1 Axes>"
      ]
     },
     "metadata": {},
     "output_type": "display_data"
    }
   ],
   "source": [
    "plt.plot(u_ref[0], '--r')\n",
    "plt.plot(u_interp[0], '-b')"
   ]
  },
  {
   "cell_type": "code",
   "execution_count": 17,
   "metadata": {},
   "outputs": [
    {
     "ename": "NameError",
     "evalue": "name 'K_hh' is not defined",
     "output_type": "error",
     "traceback": [
      "\u001b[0;31m---------------------------------------------------------------------------\u001b[0m",
      "\u001b[0;31mNameError\u001b[0m                                 Traceback (most recent call last)",
      "Cell \u001b[0;32mIn[17], line 4\u001b[0m\n\u001b[1;32m      2\u001b[0m ml_grids \u001b[38;5;241m=\u001b[39m ml_grids[::\u001b[38;5;241m-\u001b[39m\u001b[38;5;241m1\u001b[39m]\n\u001b[1;32m      3\u001b[0m ml_f \u001b[38;5;241m=\u001b[39m ml_f[::\u001b[38;5;241m-\u001b[39m\u001b[38;5;241m1\u001b[39m]\n\u001b[0;32m----> 4\u001b[0m K_IJ \u001b[38;5;241m=\u001b[39m \u001b[43mK_hh\u001b[49m[coarest_grid\u001b[38;5;241m.\u001b[39mij_idx]\n\u001b[1;32m      5\u001b[0m K_IJ \u001b[38;5;241m=\u001b[39m torch\u001b[38;5;241m.\u001b[39msqueeze(K_IJ)\n",
      "\u001b[0;31mNameError\u001b[0m: name 'K_hh' is not defined"
     ]
    }
   ],
   "source": [
    "# multi-level correction\n",
    "ml_grids = ml_grids[::-1]\n",
    "ml_f = ml_f[::-1]\n",
    "K_IJ = K_hh[coarest_grid.ij_idx]\n",
    "K_IJ = torch.squeeze(K_IJ)"
   ]
  },
  {
   "cell_type": "code",
   "execution_count": 16,
   "metadata": {},
   "outputs": [
    {
     "ename": "NameError",
     "evalue": "name 'K_IJ' is not defined",
     "output_type": "error",
     "traceback": [
      "\u001b[0;31m---------------------------------------------------------------------------\u001b[0m",
      "\u001b[0;31mNameError\u001b[0m                                 Traceback (most recent call last)",
      "Cell \u001b[0;32mIn[16], line 10\u001b[0m\n\u001b[1;32m      8\u001b[0m x_2Ij \u001b[38;5;241m=\u001b[39m ml_grids[l]\u001b[38;5;241m.\u001b[39mfetch_K_local_x()\n\u001b[1;32m      9\u001b[0m K_local_even, K_local_odd \u001b[38;5;241m=\u001b[39m K_local_eval_2D(x_2Ij, kernel_func_2D)\n\u001b[0;32m---> 10\u001b[0m K_ij \u001b[38;5;241m=\u001b[39m K_local_assemble_2D(\u001b[43mK_IJ\u001b[49m, K_local_even, K_local_odd)\n\u001b[1;32m     11\u001b[0m K_2Ij \u001b[38;5;241m=\u001b[39m K_ij[::\u001b[38;5;241m2\u001b[39m]\n\u001b[1;32m     13\u001b[0m \u001b[38;5;66;03m# local kernel interpolation\u001b[39;00m\n",
      "\u001b[0;31mNameError\u001b[0m: name 'K_IJ' is not defined"
     ]
    }
   ],
   "source": [
    "for l in range(k):\n",
    "    nh = ml_grids[l+1].nh\n",
    "    hh = ml_grids[l+1].hh\n",
    "    f_h = ml_f[l+1]\n",
    "\n",
    "    # local kernel evaluation\n",
    "    idx_corr_even, idx_corr_odd = ml_grids[l].fetch_local_idx()\n",
    "    x_2Ij = ml_grids[l].fetch_K_local_x()\n",
    "    K_local_even, K_local_odd = K_local_eval_2D(x_2Ij, kernel_func_2D)\n",
    "    K_ij = K_local_assemble_2D(K_IJ, K_local_even, K_local_odd)\n",
    "    K_2Ij = K_ij[::2]\n",
    "    \n",
    "    # local kernel interpolation\n",
    "    K_local_even_, K_local_odd_ = K_local_interp_2D(K_IJ, K_2Ij)\n",
    "\n",
    "    # calculate difference\n",
    "    K_corr_even = K_local_even.reshape(-1) - K_local_even_\n",
    "    K_corr_odd = K_local_odd.reshape(-1) - K_local_odd_\n",
    "\n",
    "    # correct even \n",
    "    K_corr_even_sparse = torch.sparse_coo_tensor(idx_corr_even, K_corr_even,(nh,nh))\n",
    "    u_corr_ = torch.sparse.mm(K_corr_even_sparse, f_h.reshape(-1,1)).reshape(nh)\n",
    "    u_corr_ = hh * injection1d(u_corr_[None,None])[0,0]\n",
    "    u_h_ = u_h + u_corr_\n",
    "    u_h_ = interp1d(u_h_[None,None])[0,0]\n",
    "    \n",
    "    # correct odd \n",
    "    K_corr_odd_sparse = torch.sparse_coo_tensor(idx_corr_odd, K_corr_odd,(nh,nh))\n",
    "    u_corr_ = hh*torch.sparse.mm(K_corr_odd_sparse, f_h.reshape(-1,1)).reshape(nh)\n",
    "    u_h_ = u_h_ + u_corr_\n",
    "\n",
    "    # get new K_IJ, u_h\n",
    "    K_IJ = K_ij[:,m:-m]\n",
    "    u_h = u_h_\n",
    "\n",
    "print(\"m {:} : {:.4e} \".format(2*m, rl2_error(u_h, u_ref).numpy()))"
   ]
  },
  {
   "cell_type": "code",
   "execution_count": null,
   "metadata": {},
   "outputs": [],
   "source": []
  }
 ],
 "metadata": {
  "kernelspec": {
   "display_name": "base",
   "language": "python",
   "name": "python3"
  },
  "language_info": {
   "codemirror_mode": {
    "name": "ipython",
    "version": 3
   },
   "file_extension": ".py",
   "mimetype": "text/x-python",
   "name": "python",
   "nbconvert_exporter": "python",
   "pygments_lexer": "ipython3",
   "version": "3.10.11"
  }
 },
 "nbformat": 4,
 "nbformat_minor": 2
}
