{
 "cells": [
  {
   "cell_type": "code",
   "execution_count": 1,
   "metadata": {},
   "outputs": [],
   "source": [
    "import scipy\n",
    "import numpy as np\n",
    "import matplotlib.pyplot as plt\n",
    "import torch\n",
    "\n",
    "from utils import matrl2_error, rl2_error\n",
    "from ops import injection2d, injection4d \n",
    "from ops import interp2d, interp1d_cols, interp1d_rows\n",
    "from ops import restrict2d\n",
    "from ops import fetch_nbrs2d #, fetch_nbrs4d\n",
    "from ops import coord2idx2d, coord2idx4d\n",
    "from ops import cat2d_nbr_coords\n",
    "from ops import grid2d_coords, grid4d_coords\n",
    "from einops import rearrange\n",
    "\n",
    "from mlmm import Grid2D\n",
    "from mlmm import K_local_interp_4D, K_local_eval_4D, K_local_assemble"
   ]
  },
  {
   "cell_type": "code",
   "execution_count": 2,
   "metadata": {},
   "outputs": [],
   "source": [
    "l = 129\n",
    "poisson_data = scipy.io.loadmat(f'../pde_data/green_learning/data2d_{l}/poisson.mat')\n",
    "F = poisson_data['F']"
   ]
  },
  {
   "cell_type": "code",
   "execution_count": 3,
   "metadata": {},
   "outputs": [],
   "source": [
    "def kernel_func(pts_pairs):\n",
    "    x1 = pts_pairs[:,0]\n",
    "    y1 = pts_pairs[:,1]\n",
    "\n",
    "    x2 = pts_pairs[:,2]\n",
    "    y2 = pts_pairs[:,3]\n",
    "\n",
    "    mask = ((x1**2+y1**2) < 1) & ((x2**2+y2**2) < 1)\n",
    "\n",
    "    k = 1/(4*torch.pi) * torch.log(((x1 - x2)**2 + (y1-y2)**2) / ((x1*y2-x2*y1)**2 + (x1*x2+y1*y2-1)**2))\n",
    "    k = torch.nan_to_num(k, neginf=-2) * mask\n",
    "\n",
    "    return k"
   ]
  },
  {
   "cell_type": "code",
   "execution_count": 4,
   "metadata": {},
   "outputs": [],
   "source": [
    "def ffunc(pts):\n",
    "    x = pts[:,0]\n",
    "    y = pts[:,1]\n",
    "    u = (1 - (x**2+y**2))**-0.5\n",
    "    u = torch.nan_to_num(u, posinf=0)\n",
    "    return u"
   ]
  },
  {
   "cell_type": "code",
   "execution_count": 56,
   "metadata": {},
   "outputs": [
    {
     "data": {
      "text/plain": [
       "32769"
      ]
     },
     "execution_count": 56,
     "metadata": {},
     "output_type": "execute_result"
    }
   ],
   "source": [
    "2**15+1"
   ]
  },
  {
   "cell_type": "code",
   "execution_count": 43,
   "metadata": {},
   "outputs": [
    {
     "name": "stdout",
     "output_type": "stream",
     "text": [
      "K_IJ 0 :  torch.Size([33, 33, 17, 17])\n",
      "K_IJ 1 :  torch.Size([65, 65, 17, 17])\n",
      "m 16 : 6.5506e-03 \n"
     ]
    }
   ],
   "source": [
    "n = 9\n",
    "m = 4\n",
    "k = 3\n",
    "\n",
    "# build multi-level grids\n",
    "ml_grids = []\n",
    "for l in range(k+1):\n",
    "    nh = 2**(n-l)+1\n",
    "    grid = Grid2D(nh, m)\n",
    "    ml_grids.append(grid)\n",
    "\n",
    "# build multi-level f\n",
    "ml_f = []\n",
    "for l in range(k+1):\n",
    "    if l == 0:\n",
    "        x_h = ml_grids[0].x_h\n",
    "        nh = ml_grids[0].nh\n",
    "        f_h = ffunc(x_h).reshape(nh, nh)\n",
    "    else:\n",
    "        f_h = restrict2d(f_h[None,None])[0,0]\n",
    "    ml_f.append(f_h)\n",
    "\n",
    "# # eval kernel at finest level\n",
    "# finest_grid = ml_grids[0]\n",
    "# finest_grid.init_grid_hh()\n",
    "# K_hh = kernel_func(finest_grid.x_hh.reshape(-1,4))\n",
    "\n",
    "# # eval kernel integral at finest level\n",
    "# nH = finest_grid.nh\n",
    "# HH = finest_grid.hh\n",
    "# f_h = ml_f[0]\n",
    "# u_ref = HH * n(K_hh.reshape(nH*nH, nH*nH) @ f_h.reshape(-1)).reshape(nH,nH)\n",
    "    \n",
    "# eval kernel at coarest level\n",
    "coarest_grid = ml_grids[-1]\n",
    "coarest_grid.init_grid_hh()\n",
    "K_hh = kernel_func(coarest_grid.x_hh.reshape(-1,4))\n",
    "\n",
    "# eval kernel integral at coarest level\n",
    "nH = coarest_grid.nh\n",
    "HH = coarest_grid.hh\n",
    "f_h = ml_f[-1]\n",
    "u_h = HH * (K_hh.reshape(nH*nH, nH*nH) @ f_h.reshape(-1)).reshape(nH,nH)\n",
    "u_interp = interp2d(u_h[None,None])[0,0]\n",
    "# print(\"m {:} : {:.4e} \".format(2*m, matrl2_error(u_interp, u_ref).numpy()))\n",
    "\n",
    "# multi-level correction\n",
    "ml_grids = ml_grids[::-1]\n",
    "ml_f = ml_f[::-1]\n",
    "K_IJ = K_hh[coarest_grid.ij_idx]\n",
    "K_IJ = K_IJ.reshape(nH,nH,2*m+1,2*m+1)\n",
    "\n",
    "for l in range(k):\n",
    "    nh = ml_grids[l+1].nh\n",
    "    hh = ml_grids[l+1].hh\n",
    "    f_h = ml_f[l+1]\n",
    "\n",
    "    # local kernel evaluation\n",
    "    idx_corr_even, idx_corr_odd = ml_grids[l].fetch_local_idx()\n",
    "    x_2Ij = ml_grids[l].fetch_K_local_x()\n",
    "    K_local_even_lst, K_local_odd_lst = K_local_eval_4D(x_2Ij, kernel_func)\n",
    "    print(\"K_IJ {:} : \".format(l), K_IJ.shape)\n",
    "    K_ij = K_local_assemble(K_IJ, K_local_even_lst, K_local_odd_lst)\n",
    "    K_2Ij = K_ij[::2,::2]\n",
    "\n",
    "    # local kernel interpolation\n",
    "    K_local_even_, K_local_odd_ = K_local_interp_4D(K_IJ, K_2Ij)\n",
    "\n",
    "    # calculate difference\n",
    "    K_local_even = torch.cat([k.reshape(-1) for k in K_local_even_lst], axis=0)\n",
    "    K_local_odd = torch.cat([k.reshape(-1) for k in K_local_odd_lst], axis=0)\n",
    "    K_corr_even = K_local_even - K_local_even_\n",
    "    K_corr_odd = K_local_odd - K_local_odd_\n",
    "\n",
    "    K_corr_even_sparse = torch.sparse_coo_tensor(idx_corr_even, K_corr_even,(nh**2,nh**2))\n",
    "    u_corr_ = torch.sparse.mm(K_corr_even_sparse, f_h.reshape(-1,1)).reshape(nh,nh)\n",
    "    u_corr_ = hh * injection2d(u_corr_[None,None])[0,0]\n",
    "    u_h_ = u_h + u_corr_\n",
    "    u_h_ = interp2d(u_h_[None,None])[0,0]\n",
    "    # print(\"m {:} : {:.4e} \".format(2*m, matrl2_error(u_h_, u_ref).numpy()))\n",
    "\n",
    "    K_corr_odd_sparse = torch.sparse_coo_tensor(idx_corr_odd, K_corr_odd,(nh**2,nh**2))\n",
    "    u_corr_ = hh*torch.sparse.mm(K_corr_odd_sparse, f_h.reshape(-1,1)).reshape(nh,nh)\n",
    "    u_h_ = u_h_ + u_corr_\n",
    "    \n",
    "    K_IJ = K_ij[:,:,m:-m,m:-m]\n",
    "    u_h = u_h_\n",
    "\n",
    "print(\"m {:} : {:.4e} \".format(2*m, matrl2_error(u_h_, u_ref).numpy()))"
   ]
  },
  {
   "cell_type": "code",
   "execution_count": 35,
   "metadata": {},
   "outputs": [
    {
     "name": "stdout",
     "output_type": "stream",
     "text": [
      "m 2 : 1.0112e-02 \n"
     ]
    }
   ],
   "source": [
    "print(\"m {:} : {:.4e} \".format(2*m, matrl2_error(u_h_, u_ref).numpy()))"
   ]
  },
  {
   "cell_type": "code",
   "execution_count": 37,
   "metadata": {},
   "outputs": [
    {
     "name": "stdout",
     "output_type": "stream",
     "text": [
      "16.3 ms ± 94.2 µs per loop (mean ± std. dev. of 7 runs, 100 loops each)\n"
     ]
    }
   ],
   "source": [
    "%%timeit\n",
    "\n",
    "u_h = hh * (K_hh.reshape(nh*nh, nh*nh) @ f_h.reshape(-1)).reshape(nh,nh)"
   ]
  },
  {
   "cell_type": "code",
   "execution_count": 38,
   "metadata": {},
   "outputs": [
    {
     "name": "stdout",
     "output_type": "stream",
     "text": [
      "12.6 ms ± 27.8 µs per loop (mean ± std. dev. of 7 runs, 100 loops each)\n"
     ]
    }
   ],
   "source": [
    "%%timeit \n",
    "\n",
    "u_H = HH * (K_HH.reshape(nH*nH, nH*nH) @ f_H.reshape(-1)).reshape(nH,nH)\n",
    "u_corr_ = torch.sparse.mm(K_corr_even_sparse, f_h.reshape(-1,1)).reshape(nh,nh)\n",
    "u_corr_ = u_corr_[::2,::2]\n",
    "u_H_ = u_H + hh * u_corr_\n",
    "u_h_ = interp2d(u_H_[None,None])[0,0]\n",
    "u_corr_ = torch.sparse.mm(K_corr_odd_sparse, f_h.reshape(-1,1)).reshape(nh,nh)\n",
    "u_h_ = u_h_ + hh*u_corr_"
   ]
  }
 ],
 "metadata": {
  "kernelspec": {
   "display_name": "base",
   "language": "python",
   "name": "python3"
  },
  "language_info": {
   "codemirror_mode": {
    "name": "ipython",
    "version": 3
   },
   "file_extension": ".py",
   "mimetype": "text/x-python",
   "name": "python",
   "nbconvert_exporter": "python",
   "pygments_lexer": "ipython3",
   "version": "3.10.11"
  }
 },
 "nbformat": 4,
 "nbformat_minor": 2
}
