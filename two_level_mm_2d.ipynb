{
 "cells": [
  {
   "cell_type": "code",
   "execution_count": 1,
   "metadata": {},
   "outputs": [],
   "source": [
    "import scipy\n",
    "import numpy as np\n",
    "import matplotlib.pyplot as plt\n",
    "import torch\n",
    "\n",
    "from utils import matrl2_error, rl2_error\n",
    "from ops import injection2d, injection4d \n",
    "from ops import interp2d, interp1d_cols, interp1d_rows\n",
    "from ops import restrict2d\n",
    "from ops import fetch_nbrs2d #, fetch_nbrs4d\n",
    "from ops import coord2idx2d, coord2idx4d\n",
    "from ops import cat2d_nbr_coords\n",
    "from ops import grid2d_coords, grid4d_coords\n",
    "from einops import rearrange"
   ]
  },
  {
   "cell_type": "code",
   "execution_count": 2,
   "metadata": {},
   "outputs": [],
   "source": [
    "l = 65\n",
    "poisson_data = scipy.io.loadmat(f'../pde_data/green_learning/data2d_{l}/poisson.mat')\n",
    "# A = poisson_data['A']\n",
    "# U = poisson_data['U']\n",
    "F = poisson_data['F']\n",
    "# G = np.linalg.inv(A.todense())\n",
    "# U_ = torch.tensor(G @ F).float()\n",
    "# G = torch.tensor(np.array(G).reshape(l,l,l,l)).float()\n",
    "# GHH = torch.tensor(np.array(G).reshape(l,l,l,l))\n",
    "\n",
    "# plt.imshow(U[:,40].reshape(l,l)) #, vmin=-0.005, vmax=0.005)\n",
    "# plt.colorbar()"
   ]
  },
  {
   "cell_type": "code",
   "execution_count": 3,
   "metadata": {},
   "outputs": [],
   "source": [
    "def kernel_func(pts_pairs):\n",
    "    x1 = pts_pairs[:,0]\n",
    "    y1 = pts_pairs[:,1]\n",
    "\n",
    "    x2 = pts_pairs[:,2]\n",
    "    y2 = pts_pairs[:,3]\n",
    "\n",
    "    mask = ((x1**2+y1**2) < 1) & ((x2**2+y2**2) < 1)\n",
    "\n",
    "    k = 1/(4*torch.pi) * torch.log(((x1 - x2)**2 + (y1-y2)**2) / ((x1*y2-x2*y1)**2 + (x1*x2+y1*y2-1)**2))\n",
    "    k = torch.nan_to_num(k, neginf=-2) * mask\n",
    "\n",
    "    return k"
   ]
  },
  {
   "cell_type": "code",
   "execution_count": 4,
   "metadata": {},
   "outputs": [],
   "source": [
    "def ffunc(pts):\n",
    "    x = pts[...,0]\n",
    "    y = pts[...,1]\n",
    "    u = (1 - (x**2+y**2))**-0.5\n",
    "    u = torch.nan_to_num(u, posinf=0)\n",
    "    return u"
   ]
  },
  {
   "cell_type": "code",
   "execution_count": 20,
   "metadata": {},
   "outputs": [],
   "source": [
    "l = 7\n",
    "k = 2\n",
    "d = 2\n",
    "M = 2\n",
    "\n",
    "# fine grid\n",
    "nh = 2**l+1  # num of pts on each axis\n",
    "nhh = nh*nh  # num of pts in fine kernel tensor\n",
    "h = 2/(nh-1) # mesh size\n",
    "hh = h*h     \n",
    "\n",
    "# coarse grid \n",
    "nH = 2**(l-1)+1\n",
    "H = 2/(nH-1)\n",
    "nHH = nH*nH \n",
    "HH = H*H\n",
    "\n",
    "# fine grid pts\n",
    "x_h, coords_h = grid2d_coords(nh)\n",
    "x_hh, coords_hh = grid4d_coords(nh)\n",
    "\n",
    "# fine grid kernel and input func\n",
    "K_hh = kernel_func(x_hh)\n",
    "f_h = ffunc(x_h) #torch.tensor(F[:,0]).float()\n",
    "\n",
    "# fine grid output func eval \n",
    "u_h = hh * (K_hh.reshape(nh*nh,nh*nh) @ f_h).reshape(nh,nh)\n",
    "u_H_ref = injection2d(u_h[None,None])[0,0]\n",
    "\n",
    "# coarse grid pts pairs\n",
    "x_H, coords_H = grid2d_coords(nH)\n",
    "x_HH, coords_HH = grid4d_coords(nH)\n",
    "\n",
    "# coarse grid kernel and restricted input func\n",
    "K_HH = kernel_func(x_HH)\n",
    "f_H = restrict2d(f_h.reshape(nh, nh)[None,None])[0,0].reshape(-1)\n",
    "\n",
    "# coarse grid output func eval \n",
    "u_H =  HH * (K_HH.reshape(nH*nH, nH*nH) @ f_H).reshape(nH,nH)\n",
    "u_h_woc = interp2d(u_H[None,None])[0,0] # without correction"
   ]
  },
  {
   "cell_type": "code",
   "execution_count": 28,
   "metadata": {},
   "outputs": [
    {
     "data": {
      "text/plain": [
       "torch.Size([65, 65, 9, 9, 4])"
      ]
     },
     "execution_count": 28,
     "metadata": {},
     "output_type": "execute_result"
    }
   ],
   "source": [
    "x_ij.shape"
   ]
  },
  {
   "cell_type": "code",
   "execution_count": 24,
   "metadata": {},
   "outputs": [
    {
     "name": "stdout",
     "output_type": "stream",
     "text": [
      "x_IJ :  torch.Size([4225, 5, 5, 4])\n",
      "K_ij_xeven_yfull_: torch.Size([4225, 5, 9, 1])\n",
      "K_ij_xodd_yfull_: torch.Size([4225, 36])\n",
      "K_ij_xeven_yodd_: torch.Size([4225, 20])\n",
      "K_ij_xodd_yfull :  torch.Size([4225, 36])\n"
     ]
    }
   ],
   "source": [
    "# (x, y) = (2X, 2Y)\n",
    "# fetch local\n",
    "IJ_coords = fetch_nbrs2d(coords_H, mx1=M, mx2=M, my1=M, my2=M)\n",
    "IJ_coords = cat2d_nbr_coords(coords_H, IJ_coords) # J is I's nbrs on H\n",
    "IJ_idx = coord2idx4d(IJ_coords, nH)\n",
    "x_IJ = torch.squeeze(x_HH[IJ_idx])\n",
    "x_ij = interp2d(x_IJ.permute(0,3,1,2)).permute(0,2,3,1)\n",
    "x_ij = rearrange(x_ij, '(m n) x y c-> m n x y c', m=nH, n=nH)\n",
    "\n",
    "print('x_IJ : ', x_IJ.shape)\n",
    "K_IJ = K_HH[IJ_idx]\n",
    "K_IJ = K_IJ.reshape(nH,nH,2*M+1,2*M+1)\n",
    "K_IJ = rearrange(K_IJ, 'm n x y -> (m n) x y 1')\n",
    "\n",
    "# Local Kernel Interpolation, i = (2X, 2Y)\n",
    "# here i = (2X, 2Y), therefore we use i instead of I\n",
    "# interp j=(2X',2Y') to get j=(2X',y')\n",
    "K_ij_xeven_yfull_ = interp1d_cols(K_IJ.permute(0,3,1,2)).permute(0,2,3,1) \n",
    "# select j=(2X',2Y'+1) from j=(2X',y')\n",
    "K_ij_xeven_yodd_ = K_ij_xeven_yfull_[:,:,1::2] \n",
    "K_ij_xeven_yodd_ = K_ij_xeven_yodd_.reshape(nH*nH,-1)\n",
    "# interp j=(2X',y') to get j=(2X'+1,y')\n",
    "K_ij_xodd_yfull_ = (K_ij_xeven_yfull_[:,:-1] + K_ij_xeven_yfull_[:,1:])/2 \n",
    "K_ij_xodd_yfull_ = K_ij_xodd_yfull_.reshape(nH*nH,-1)\n",
    "print('K_ij_xeven_yfull_:', K_ij_xeven_yfull_.shape)\n",
    "print('K_ij_xodd_yfull_:', K_ij_xodd_yfull_.shape)\n",
    "print('K_ij_xeven_yodd_:', K_ij_xeven_yodd_.shape)\n",
    "\n",
    "# Local Kernel Evaluation, i = (2X, 2Y)\n",
    "# x_ij_xeven_yfull = interp1d_cols(x_IJ.permute(0,3,1,2)).permute(0,2,3,1)\n",
    "x_ij_xeven_yodd = x_ij[:,:,::2,1::2]\n",
    "K_ij_xeven_yodd = kernel_func(x_ij_xeven_yodd.reshape(-1,4)).reshape(nH*nH,-1)\n",
    "\n",
    "# x_ij_xodd_yfull = (x_ij_xeven_yfull[:,:-1] + x_ij_xeven_yfull[:,1:])/2\n",
    "x_ij_xodd_yfull = x_ij[:,:,1::2]\n",
    "K_ij_xodd_yfull = kernel_func(x_ij_xodd_yfull.reshape(-1,4)).reshape(nH*nH,-1)\n",
    "print('K_ij_xodd_yfull : ', K_ij_xodd_yfull.shape)\n",
    "\n",
    "\n",
    "# local fine f\n",
    "f_j_xeven_yodd =  ffunc(x_ij_xeven_yodd[...,2:]).reshape(nH*nH,-1)\n",
    "f_j_xodd_yfull = ffunc(x_ij_xodd_yfull[...,2:]).reshape(nH*nH,-1)\n",
    "\n",
    "# local correct u_h_\n",
    "u_H_ = u_H.reshape(-1) + \\\n",
    "      hh*((K_ij_xeven_yodd - K_ij_xeven_yodd_) * f_j_xeven_yodd).sum(axis=-1) + \\\n",
    "      hh*((K_ij_xodd_yfull - K_ij_xodd_yfull_) * f_j_xodd_yfull).sum(axis=-1)\n",
    "\n",
    "u_H_ = u_H_.reshape(nH,nH)\n",
    "u_h_0 = interp2d(u_H_[None,None])[0,0]"
   ]
  },
  {
   "cell_type": "code",
   "execution_count": 25,
   "metadata": {},
   "outputs": [
    {
     "name": "stdout",
     "output_type": "stream",
     "text": [
      "x_i_xodd_yeven_j :  torch.Size([64, 65, 9, 9, 4])\n",
      "x_i_xeven_yodd_j :  torch.Size([65, 64, 9, 9, 4])\n",
      "x_i_xodd_yodd_j :  torch.Size([64, 64, 9, 9, 4])\n"
     ]
    }
   ],
   "source": [
    "# (x, y) != (2X, 2Y)\n",
    "# x_i_xeven_yeven_j = interp2d(x_IJ.permute(0,3,1,2)).permute(0,2,3,1)\n",
    "# x_i_xeven_yeven_j = rearrange(x_i_xeven_yeven_j, '(m n) x y c -> m n x y c', m=nH,n=nH)\n",
    "K_i_xeven_yeven_j = kernel_func(x_ij.reshape(-1,4)).reshape(nH*nH,-1)\n",
    "\n",
    "K_i_xeven_yeven_j = K_i_xeven_yeven_j.reshape(nH,nH,4*M+1,4*M+1)\n",
    "K_i_xodd_yeven_j_ = (K_i_xeven_yeven_j[:-1] + K_i_xeven_yeven_j[1:])/2\n",
    "K_i_xeven_yodd_j_ = (K_i_xeven_yeven_j[:,:-1] + K_i_xeven_yeven_j[:,1:])/2\n",
    "K_i_xodd_yodd_j_ = (K_i_xeven_yodd_j_[:-1] + K_i_xeven_yodd_j_[1:])/2\n",
    "\n",
    "K_i_xodd_yeven_j_ = K_i_xodd_yeven_j_.reshape((nH-1)*nH,-1)\n",
    "K_i_xeven_yodd_j_ = K_i_xeven_yodd_j_.reshape(nH*(nH-1),-1)\n",
    "K_i_xodd_yodd_j_ = K_i_xodd_yodd_j_.reshape((nH-1)*(nH-1),-1)\n",
    "\n",
    "x_i_xodd_yeven_j = (x_ij[:-1] + x_ij[1:])/2\n",
    "x_i_xeven_yodd_j = (x_ij[:,:-1] + x_ij[:,1:])/2\n",
    "x_i_xodd_yodd_j = (x_i_xeven_yodd_j[:-1] + x_i_xeven_yodd_j[1:])/2\n",
    "print('x_i_xodd_yeven_j : ', x_i_xodd_yeven_j.shape)\n",
    "print('x_i_xeven_yodd_j : ', x_i_xeven_yodd_j.shape)\n",
    "print('x_i_xodd_yodd_j : ', x_i_xodd_yodd_j.shape)\n",
    "\n",
    "K_i_xodd_yeven_j = kernel_func(x_i_xodd_yeven_j.reshape(-1,4)).reshape(nH*(nH-1),-1)\n",
    "K_i_xeven_yodd_j = kernel_func(x_i_xeven_yodd_j.reshape(-1,4)).reshape(nH*(nH-1),-1)\n",
    "K_i_xodd_yodd_j = kernel_func(x_i_xodd_yodd_j.reshape(-1,4)).reshape((nH-1)*(nH-1),-1)"
   ]
  },
  {
   "cell_type": "code",
   "execution_count": 26,
   "metadata": {},
   "outputs": [],
   "source": [
    "f_j = ffunc(x_i_xodd_yeven_j[...,2:])\n",
    "f_j = rearrange(f_j, 'm n x y -> (m n) (x y)')\n",
    "u_h_1 = u_h_0.clone()\n",
    "u_h_1[1:-1:2,::2] = u_h_1[1:-1:2,::2] + \\\n",
    "      hh*((K_i_xodd_yeven_j - K_i_xodd_yeven_j_) * f_j).sum(axis=-1).reshape(nH-1, nH)\n",
    "\n",
    "f_j = ffunc(x_i_xeven_yodd_j[...,2:])\n",
    "f_j = rearrange(f_j, 'm n x y -> (m n) (x y)')\n",
    "u_h_2 = u_h_1.clone()\n",
    "u_h_2[::2, 1:-1:2] = u_h_2[::2, 1:-1:2] + \\\n",
    "      hh*((K_i_xeven_yodd_j - K_i_xeven_yodd_j_) * f_j).sum(axis=-1).reshape(nH, nH-1)\n",
    "\n",
    "f_j = ffunc(x_i_xodd_yodd_j[...,2:])\n",
    "f_j = rearrange(f_j, 'm n x y -> (m n) (x y)')\n",
    "u_h_3 = u_h_2.clone()\n",
    "u_h_3[1:-1:2, 1:-1:2] = u_h_3[1:-1:2, 1:-1:2] + \\\n",
    "      hh*((K_i_xodd_yodd_j - K_i_xodd_yodd_j_) * f_j).sum(axis=-1).reshape(nH-1, nH-1)"
   ]
  },
  {
   "cell_type": "code",
   "execution_count": 27,
   "metadata": {},
   "outputs": [
    {
     "name": "stdout",
     "output_type": "stream",
     "text": [
      "m 4 : 1.4644e-02 \n",
      "m 4 : 4.4762e-03 \n",
      "m 4 : 4.1887e-03 \n",
      "m 4 : 3.8799e-03 \n",
      "m 4 : 3.5732e-03 \n"
     ]
    }
   ],
   "source": [
    "print(\"m {:} : {:.4e} \".format(\n",
    "    2*M, matrl2_error(u_h_woc, u_h).numpy()))\n",
    "\n",
    "print(\"m {:} : {:.4e} \".format(\n",
    "    2*M, matrl2_error(u_h_0, u_h).numpy()))\n",
    "\n",
    "print(\"m {:} : {:.4e} \".format(\n",
    "    2*M, matrl2_error(u_h_1, u_h).numpy()))\n",
    "\n",
    "print(\"m {:} : {:.4e} \".format(\n",
    "    2*M, matrl2_error(u_h_2, u_h).numpy()))\n",
    "\n",
    "print(\"m {:} : {:.4e} \".format(\n",
    "    2*M, matrl2_error(u_h_3, u_h).numpy()))"
   ]
  },
  {
   "cell_type": "code",
   "execution_count": null,
   "metadata": {},
   "outputs": [],
   "source": [
    "f_j = f_h.reshape(nh,nh)"
   ]
  },
  {
   "cell_type": "code",
   "execution_count": null,
   "metadata": {},
   "outputs": [
    {
     "data": {
      "text/plain": [
       "torch.Size([1089, 5, 5])"
      ]
     },
     "execution_count": 9,
     "metadata": {},
     "output_type": "execute_result"
    }
   ],
   "source": [
    "f_h.reshape(nh,nh)[IJ_coords[:,:,:,-2], IJ_coords[:,:,:,-1]]"
   ]
  },
  {
   "cell_type": "code",
   "execution_count": null,
   "metadata": {},
   "outputs": [
    {
     "data": {
      "text/plain": [
       "torch.Size([1089, 20])"
      ]
     },
     "execution_count": 25,
     "metadata": {},
     "output_type": "execute_result"
    }
   ],
   "source": [
    "f_j_xeven_yodd.shape"
   ]
  },
  {
   "cell_type": "code",
   "execution_count": null,
   "metadata": {},
   "outputs": [],
   "source": []
  }
 ],
 "metadata": {
  "kernelspec": {
   "display_name": "base",
   "language": "python",
   "name": "python3"
  },
  "language_info": {
   "codemirror_mode": {
    "name": "ipython",
    "version": 3
   },
   "file_extension": ".py",
   "mimetype": "text/x-python",
   "name": "python",
   "nbconvert_exporter": "python",
   "pygments_lexer": "ipython3",
   "version": "3.10.11"
  }
 },
 "nbformat": 4,
 "nbformat_minor": 2
}
