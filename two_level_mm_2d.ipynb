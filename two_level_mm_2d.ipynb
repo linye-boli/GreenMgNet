{
 "cells": [
  {
   "cell_type": "code",
   "execution_count": 1,
   "metadata": {},
   "outputs": [],
   "source": [
    "import scipy\n",
    "import numpy as np\n",
    "import matplotlib.pyplot as plt\n",
    "import torch\n",
    "\n",
    "from utils import matrl2_error, rl2_error\n",
    "from ops import injection2d, injection4d \n",
    "from ops import interp2d, interp1d_cols, interp1d_rows\n",
    "from ops import restrict2d\n",
    "from ops import fetch_nbrs2d #, fetch_nbrs4d\n",
    "from ops import coord2idx2d, coord2idx4d\n",
    "from ops import cat2d_nbr_coords\n",
    "from ops import grid2d_coords, grid4d_coords\n",
    "from einops import rearrange\n",
    "\n",
    "from mlmm import Grid2D\n",
    "from mlmm import K_local_interp_4D, K_local_eval_4D"
   ]
  },
  {
   "cell_type": "code",
   "execution_count": 2,
   "metadata": {},
   "outputs": [],
   "source": [
    "l = 65\n",
    "poisson_data = scipy.io.loadmat(f'../pde_data/green_learning/data2d_{l}/poisson.mat')\n",
    "# A = poisson_data['A']\n",
    "# U = poisson_data['U']\n",
    "F = poisson_data['F']\n",
    "# G = np.linalg.inv(A.todense())\n",
    "# U_ = torch.tensor(G @ F).float()\n",
    "# G = torch.tensor(np.array(G).reshape(l,l,l,l)).float()\n",
    "# GHH = torch.tensor(np.array(G).reshape(l,l,l,l))\n",
    "\n",
    "# plt.imshow(U[:,40].reshape(l,l)) #, vmin=-0.005, vmax=0.005)\n",
    "# plt.colorbar()"
   ]
  },
  {
   "cell_type": "code",
   "execution_count": 3,
   "metadata": {},
   "outputs": [],
   "source": [
    "def kernel_func(pts_pairs):\n",
    "    x1 = pts_pairs[:,0]\n",
    "    y1 = pts_pairs[:,1]\n",
    "\n",
    "    x2 = pts_pairs[:,2]\n",
    "    y2 = pts_pairs[:,3]\n",
    "\n",
    "    mask = ((x1**2+y1**2) < 1) & ((x2**2+y2**2) < 1)\n",
    "\n",
    "    k = 1/(4*torch.pi) * torch.log(((x1 - x2)**2 + (y1-y2)**2) / ((x1*y2-x2*y1)**2 + (x1*x2+y1*y2-1)**2))\n",
    "    k = torch.nan_to_num(k, neginf=-2) * mask\n",
    "\n",
    "    return k"
   ]
  },
  {
   "cell_type": "code",
   "execution_count": 4,
   "metadata": {},
   "outputs": [],
   "source": [
    "def ffunc(pts):\n",
    "    x = pts[...,0]\n",
    "    y = pts[...,1]\n",
    "    u = (1 - (x**2+y**2))**-0.5\n",
    "    u = torch.nan_to_num(u, posinf=0)\n",
    "    return u"
   ]
  },
  {
   "cell_type": "code",
   "execution_count": 9,
   "metadata": {},
   "outputs": [
    {
     "name": "stdout",
     "output_type": "stream",
     "text": [
      "m 6 : 5.1386e-02 \n",
      "m 6 : 1.4147e-02 \n",
      "m 6 : 8.6846e-03 \n"
     ]
    }
   ],
   "source": [
    "# two level mm\n",
    "\n",
    "l= 6\n",
    "nh = 2**l+1 # total level\n",
    "nH = 2**(l-1) + 1\n",
    "k = 1 # coarse level\n",
    "d = 1 # problem dimension\n",
    "m = 3 # local range\n",
    "\n",
    "fine_grid = Grid2D(nh, m)\n",
    "fine_grid.init_grid_hh()\n",
    "coarse_grid = Grid2D(nH, m)\n",
    "coarse_grid.init_grid_hh()\n",
    "\n",
    "# full eval\n",
    "f_h = ffunc(fine_grid.x_h).reshape(nh,nh)#torch.tensor(F[:,10]).float().reshape(nh,nh)\n",
    "K_hh = kernel_func(fine_grid.x_hh.reshape(-1,4))\n",
    "h = fine_grid.h \n",
    "nh = fine_grid.nh\n",
    "hh = h**2\n",
    "u_h = hh * (K_hh.reshape(nh*nh, nh*nh) @ f_h.reshape(-1)).reshape(nh,nh)\n",
    "\n",
    "# coarse eval\n",
    "H = coarse_grid.h \n",
    "nH = coarse_grid.nh\n",
    "HH = H**2\n",
    "f_H = restrict2d(f_h[None,None])[0,0]\n",
    "K_HH = kernel_func(coarse_grid.x_hh.reshape(-1,4))\n",
    "u_H = HH * (K_HH.reshape(nH*nH, nH*nH) @ f_H.reshape(-1)).reshape(nH,nH)\n",
    "u_h_ = interp2d(u_H[None,None])[0,0].reshape(-1) # without correction\n",
    "print(\"m {:} : {:.4e} \".format(\n",
    "    2*m, matrl2_error(u_h_, u_h).numpy()))\n",
    "\n",
    "# local eval\n",
    "idx_corr = coarse_grid.fetch_local_idx()\n",
    "x_locals, x_2Ij = coarse_grid.fetch_K_local_x()\n",
    "K_locals, K_2Ij = K_local_eval_4D(x_2Ij, kernel_func)\n",
    "K_IJ = K_HH[coarse_grid.ij_idx]\n",
    "K_IJ = K_IJ.reshape(nH,nH,2*m+1,2*m+1)\n",
    "K_locals_ = K_local_interp_4D(K_IJ, K_2Ij)\n",
    "\n",
    "K_corr_even = [(K-K_).reshape(-1) for K, K_ in zip(K_locals[:2], K_locals_[:2])]\n",
    "K_corr_odd = [(K-K_).reshape(-1) for K, K_ in zip(K_locals[2:], K_locals_[2:])]\n",
    "\n",
    "idx_corr_even = torch.concat(idx_corr[:2], axis=1)\n",
    "idx_corr_odd = torch.concat(idx_corr[2:], axis=1)\n",
    "\n",
    "K_corr_even = torch.concat(K_corr_even, axis=0)\n",
    "K_corr_odd = torch.concat(K_corr_odd, axis=0)\n",
    "\n",
    "# local correction\n",
    "K_corr_even_sparse = torch.sparse_coo_tensor(idx_corr_even, K_corr_even,(nh**2,nh**2))\n",
    "K_corr_odd_sparse = torch.sparse_coo_tensor(idx_corr_odd, K_corr_odd,(nh**2,nh**2))\n",
    "u_corr_ = torch.sparse.mm(K_corr_even_sparse, f_h.reshape(-1,1)).reshape(nh,nh)\n",
    "u_corr_ = injection2d(u_corr_[None,None])[0,0]\n",
    "u_H_ = u_H + hh * u_corr_\n",
    "u_h_ = interp2d(u_H_[None,None])[0,0]\n",
    "print(\"m {:} : {:.4e} \".format(\n",
    "    2*m, matrl2_error(u_h_, u_h).numpy()))\n",
    "u_corr_ = torch.sparse.mm(K_corr_odd_sparse, f_h.reshape(-1,1)).reshape(nh,nh)\n",
    "u_h_ = u_h_ + hh*u_corr_\n",
    "print(\"m {:} : {:.4e} \".format(\n",
    "    2*m, matrl2_error(u_h_, u_h).numpy()))"
   ]
  },
  {
   "cell_type": "code",
   "execution_count": 11,
   "metadata": {},
   "outputs": [
    {
     "name": "stdout",
     "output_type": "stream",
     "text": [
      "227 ms ± 1.52 ms per loop (mean ± std. dev. of 7 runs, 1 loop each)\n"
     ]
    }
   ],
   "source": [
    "%%timeit \n",
    "\n",
    "K_hh = kernel_func(fine_grid.x_hh.reshape(-1,4))\n",
    "u_h = hh * (K_hh.reshape(nh*nh, nh*nh) @ f_h.reshape(-1)).reshape(nh,nh)"
   ]
  },
  {
   "cell_type": "code",
   "execution_count": 12,
   "metadata": {},
   "outputs": [
    {
     "name": "stdout",
     "output_type": "stream",
     "text": [
      "58.9 ms ± 721 µs per loop (mean ± std. dev. of 7 runs, 10 loops each)\n"
     ]
    }
   ],
   "source": [
    "%%timeit \n",
    "\n",
    "K_HH = kernel_func(coarse_grid.x_hh.reshape(-1,4))\n",
    "\n",
    "x_locals, x_2Ij = coarse_grid.fetch_K_local_x()\n",
    "K_locals, K_2Ij = K_local_eval_4D(x_2Ij, kernel_func)\n",
    "K_IJ = K_HH[coarse_grid.ij_idx]\n",
    "K_IJ = K_IJ.reshape(nH,nH,2*m+1,2*m+1)\n",
    "K_locals_ = K_local_interp_4D(K_IJ, K_2Ij)\n",
    "K_corr_even = [(K-K_).reshape(-1) for K, K_ in zip(K_locals[:2], K_locals_[:2])]\n",
    "K_corr_odd = [(K-K_).reshape(-1) for K, K_ in zip(K_locals[2:], K_locals_[2:])]\n",
    "idx_corr_even = torch.concat(idx_corr[:2], axis=1)\n",
    "idx_corr_odd = torch.concat(idx_corr[2:], axis=1)\n",
    "K_corr_even = torch.concat(K_corr_even, axis=0)\n",
    "K_corr_odd = torch.concat(K_corr_odd, axis=0)\n",
    "K_corr_even_sparse = torch.sparse_coo_tensor(idx_corr_even, K_corr_even,(nh**2,nh**2))\n",
    "K_corr_odd_sparse = torch.sparse_coo_tensor(idx_corr_odd, K_corr_odd,(nh**2,nh**2))\n",
    "\n",
    "u_H = HH * (K_HH.reshape(nH*nH, nH*nH) @ f_H.reshape(-1)).reshape(nH,nH)\n",
    "u_corr_ = torch.sparse.mm(K_corr_even_sparse, f_h.reshape(-1,1)).reshape(nh,nh)\n",
    "u_corr_ = u_corr_[::2,::2]\n",
    "u_H_ = u_H + hh * u_corr_\n",
    "u_h_ = interp2d(u_H_[None,None])[0,0]\n",
    "u_corr_ = torch.sparse.mm(K_corr_odd_sparse, f_h.reshape(-1,1)).reshape(nh,nh)\n",
    "u_h_ = u_h_ + hh*u_corr_"
   ]
  }
 ],
 "metadata": {
  "kernelspec": {
   "display_name": "base",
   "language": "python",
   "name": "python3"
  },
  "language_info": {
   "codemirror_mode": {
    "name": "ipython",
    "version": 3
   },
   "file_extension": ".py",
   "mimetype": "text/x-python",
   "name": "python",
   "nbconvert_exporter": "python",
   "pygments_lexer": "ipython3",
   "version": "3.10.11"
  }
 },
 "nbformat": 4,
 "nbformat_minor": 2
}
